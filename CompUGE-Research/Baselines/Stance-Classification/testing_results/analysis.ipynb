{
 "cells": [
  {
   "cell_type": "code",
   "id": "initial_id",
   "metadata": {
    "collapsed": true,
    "ExecuteTime": {
     "end_time": "2024-09-09T13:28:05.569620Z",
     "start_time": "2024-09-09T13:28:05.134915Z"
    }
   },
   "source": [
    "import pandas as pd\n",
    "\n",
    "metrics = [\n",
    "    pd.read_csv(f'{folder}/metrics.csv') for folder in ['FacebookAI', 'google-bert', 'microsoft']\n",
    "    ]\n",
    "# header of each metrics file: training on,tested on,model,accuracy,precision,recall,f1\n",
    "# make a new metrics file, with training on, testedon, average accuracy, average precision, average recall, average f1\n",
    "# sort by f1 score\n",
    "# remove model column\n",
    "metrics = pd.concat(metrics)\n",
    "metrics = metrics.drop(columns=['model'])\n",
    "metrics = metrics.groupby(['training on', 'tested on']).mean().reset_index()\n",
    "metrics = metrics.sort_values(by='f1', ascending=False)\n",
    "\n",
    "# remove rows where tested on is sc_all\n",
    "metrics = metrics[metrics['tested on'] != 'sc_all']\n",
    "\n",
    "# save the metrics file\n",
    "metrics.to_csv('metrics.csv', index=False)"
   ],
   "outputs": [],
   "execution_count": 1
  },
  {
   "metadata": {
    "ExecuteTime": {
     "end_time": "2024-09-09T13:28:13.469382Z",
     "start_time": "2024-09-09T13:28:13.459467Z"
    }
   },
   "cell_type": "code",
   "source": "metrics",
   "id": "8ce826dc692befa7",
   "outputs": [
    {
     "data": {
      "text/plain": [
       "      training on       tested on  accuracy  precision    recall        f1\n",
       "1          sc_all  sc_compsent_19  0.891667   0.893643  0.891667  0.892153\n",
       "4  sc_compsent_19  sc_compsent_19  0.890278   0.889533  0.890278  0.889689\n",
       "8   sc_webis_2022   sc_webis_2022  0.621723   0.606702  0.621723  0.584000\n",
       "7   sc_webis_2022  sc_compsent_19  0.625926   0.506639  0.625926  0.555176\n",
       "2          sc_all   sc_webis_2022  0.490637   0.514463  0.490637  0.498196\n",
       "5  sc_compsent_19   sc_webis_2022  0.614232   0.456921  0.614232  0.491616"
      ],
      "text/html": [
       "<div>\n",
       "<style scoped>\n",
       "    .dataframe tbody tr th:only-of-type {\n",
       "        vertical-align: middle;\n",
       "    }\n",
       "\n",
       "    .dataframe tbody tr th {\n",
       "        vertical-align: top;\n",
       "    }\n",
       "\n",
       "    .dataframe thead th {\n",
       "        text-align: right;\n",
       "    }\n",
       "</style>\n",
       "<table border=\"1\" class=\"dataframe\">\n",
       "  <thead>\n",
       "    <tr style=\"text-align: right;\">\n",
       "      <th></th>\n",
       "      <th>training on</th>\n",
       "      <th>tested on</th>\n",
       "      <th>accuracy</th>\n",
       "      <th>precision</th>\n",
       "      <th>recall</th>\n",
       "      <th>f1</th>\n",
       "    </tr>\n",
       "  </thead>\n",
       "  <tbody>\n",
       "    <tr>\n",
       "      <th>1</th>\n",
       "      <td>sc_all</td>\n",
       "      <td>sc_compsent_19</td>\n",
       "      <td>0.891667</td>\n",
       "      <td>0.893643</td>\n",
       "      <td>0.891667</td>\n",
       "      <td>0.892153</td>\n",
       "    </tr>\n",
       "    <tr>\n",
       "      <th>4</th>\n",
       "      <td>sc_compsent_19</td>\n",
       "      <td>sc_compsent_19</td>\n",
       "      <td>0.890278</td>\n",
       "      <td>0.889533</td>\n",
       "      <td>0.890278</td>\n",
       "      <td>0.889689</td>\n",
       "    </tr>\n",
       "    <tr>\n",
       "      <th>8</th>\n",
       "      <td>sc_webis_2022</td>\n",
       "      <td>sc_webis_2022</td>\n",
       "      <td>0.621723</td>\n",
       "      <td>0.606702</td>\n",
       "      <td>0.621723</td>\n",
       "      <td>0.584000</td>\n",
       "    </tr>\n",
       "    <tr>\n",
       "      <th>7</th>\n",
       "      <td>sc_webis_2022</td>\n",
       "      <td>sc_compsent_19</td>\n",
       "      <td>0.625926</td>\n",
       "      <td>0.506639</td>\n",
       "      <td>0.625926</td>\n",
       "      <td>0.555176</td>\n",
       "    </tr>\n",
       "    <tr>\n",
       "      <th>2</th>\n",
       "      <td>sc_all</td>\n",
       "      <td>sc_webis_2022</td>\n",
       "      <td>0.490637</td>\n",
       "      <td>0.514463</td>\n",
       "      <td>0.490637</td>\n",
       "      <td>0.498196</td>\n",
       "    </tr>\n",
       "    <tr>\n",
       "      <th>5</th>\n",
       "      <td>sc_compsent_19</td>\n",
       "      <td>sc_webis_2022</td>\n",
       "      <td>0.614232</td>\n",
       "      <td>0.456921</td>\n",
       "      <td>0.614232</td>\n",
       "      <td>0.491616</td>\n",
       "    </tr>\n",
       "  </tbody>\n",
       "</table>\n",
       "</div>"
      ]
     },
     "execution_count": 2,
     "metadata": {},
     "output_type": "execute_result"
    }
   ],
   "execution_count": 2
  }
 ],
 "metadata": {
  "kernelspec": {
   "display_name": "Python 3",
   "language": "python",
   "name": "python3"
  },
  "language_info": {
   "codemirror_mode": {
    "name": "ipython",
    "version": 2
   },
   "file_extension": ".py",
   "mimetype": "text/x-python",
   "name": "python",
   "nbconvert_exporter": "python",
   "pygments_lexer": "ipython2",
   "version": "2.7.6"
  }
 },
 "nbformat": 4,
 "nbformat_minor": 5
}

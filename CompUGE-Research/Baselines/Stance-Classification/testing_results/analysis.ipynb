{
 "cells": [
  {
   "cell_type": "code",
   "id": "initial_id",
   "metadata": {
    "collapsed": true,
    "ExecuteTime": {
     "end_time": "2024-09-09T21:00:23.041470Z",
     "start_time": "2024-09-09T21:00:23.018492Z"
    }
   },
   "source": [
    "import pandas as pd\n",
    "\n",
    "metrics = [\n",
    "    pd.read_csv(f'{folder}/metrics.csv') for folder in ['FacebookAI', 'google-bert', 'microsoft']\n",
    "    ]\n",
    "# header of each metrics file: training on,tested on,model,accuracy,precision,recall,f1\n",
    "# make a new metrics file, with training on, testedon, average accuracy, average precision, average recall, average f1\n",
    "# sort by f1 score\n",
    "# remove model column\n",
    "metrics = pd.concat(metrics)\n",
    "metrics = metrics.drop(columns=['model'])\n",
    "metrics = metrics.groupby(['training on', 'tested on']).mean().reset_index()\n",
    "metrics = metrics.sort_values(by='f1', ascending=False)\n",
    "\n",
    "# remove rows where tested on is sc_all\n",
    "metrics = metrics[metrics['tested on'] != 'sc_all']\n",
    "\n"
   ],
   "outputs": [],
   "execution_count": 5
  },
  {
   "metadata": {
    "ExecuteTime": {
     "end_time": "2024-09-09T21:00:24.688597Z",
     "start_time": "2024-09-09T21:00:24.679845Z"
    }
   },
   "cell_type": "code",
   "source": [
    "# convert table to rows training on, columns tested on, values f1\n",
    "metrics = metrics.pivot(index='training on', columns='tested on', values='f1')\n",
    "\n",
    "metrics"
   ],
   "id": "8ce826dc692befa7",
   "outputs": [
    {
     "data": {
      "text/plain": [
       "tested on       sc_compsent_19  sc_webis_2022\n",
       "training on                                  \n",
       "sc_all                0.892153       0.498196\n",
       "sc_compsent_19        0.889689       0.491616\n",
       "sc_webis_2022         0.555176       0.584000"
      ],
      "text/html": [
       "<div>\n",
       "<style scoped>\n",
       "    .dataframe tbody tr th:only-of-type {\n",
       "        vertical-align: middle;\n",
       "    }\n",
       "\n",
       "    .dataframe tbody tr th {\n",
       "        vertical-align: top;\n",
       "    }\n",
       "\n",
       "    .dataframe thead th {\n",
       "        text-align: right;\n",
       "    }\n",
       "</style>\n",
       "<table border=\"1\" class=\"dataframe\">\n",
       "  <thead>\n",
       "    <tr style=\"text-align: right;\">\n",
       "      <th>tested on</th>\n",
       "      <th>sc_compsent_19</th>\n",
       "      <th>sc_webis_2022</th>\n",
       "    </tr>\n",
       "    <tr>\n",
       "      <th>training on</th>\n",
       "      <th></th>\n",
       "      <th></th>\n",
       "    </tr>\n",
       "  </thead>\n",
       "  <tbody>\n",
       "    <tr>\n",
       "      <th>sc_all</th>\n",
       "      <td>0.892153</td>\n",
       "      <td>0.498196</td>\n",
       "    </tr>\n",
       "    <tr>\n",
       "      <th>sc_compsent_19</th>\n",
       "      <td>0.889689</td>\n",
       "      <td>0.491616</td>\n",
       "    </tr>\n",
       "    <tr>\n",
       "      <th>sc_webis_2022</th>\n",
       "      <td>0.555176</td>\n",
       "      <td>0.584000</td>\n",
       "    </tr>\n",
       "  </tbody>\n",
       "</table>\n",
       "</div>"
      ]
     },
     "execution_count": 6,
     "metadata": {},
     "output_type": "execute_result"
    }
   ],
   "execution_count": 6
  },
  {
   "metadata": {},
   "cell_type": "code",
   "outputs": [],
   "execution_count": null,
   "source": "",
   "id": "8f81ff115949720d"
  }
 ],
 "metadata": {
  "kernelspec": {
   "display_name": "Python 3",
   "language": "python",
   "name": "python3"
  },
  "language_info": {
   "codemirror_mode": {
    "name": "ipython",
    "version": 2
   },
   "file_extension": ".py",
   "mimetype": "text/x-python",
   "name": "python",
   "nbconvert_exporter": "python",
   "pygments_lexer": "ipython2",
   "version": "2.7.6"
  }
 },
 "nbformat": 4,
 "nbformat_minor": 5
}

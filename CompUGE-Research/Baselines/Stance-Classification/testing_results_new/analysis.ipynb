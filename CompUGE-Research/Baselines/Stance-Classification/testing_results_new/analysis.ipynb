{
 "cells": [
  {
   "cell_type": "code",
   "id": "initial_id",
   "metadata": {
    "collapsed": true,
    "ExecuteTime": {
     "end_time": "2024-09-09T21:16:07.715629Z",
     "start_time": "2024-09-09T21:16:07.705234Z"
    }
   },
   "source": [
    "import pandas as pd\n",
    "\n",
    "metrics = [\n",
    "    pd.read_csv(f'{folder}/metrics.csv') for folder in ['FacebookAI', 'google-bert', 'microsoft']\n",
    "    ]\n",
    "# header of each metrics file: training on,tested on,model,accuracy,precision,recall,f1\n",
    "# make a new metrics file, with training on, testedon, average accuracy, average precision, average recall, average f1\n",
    "# sort by f1 score\n",
    "# remove model column\n",
    "metrics = pd.concat(metrics)\n",
    "metrics = metrics.drop(columns=['model'])\n",
    "metrics = metrics.groupby(['training on', 'tested on']).mean().reset_index()\n",
    "metrics = metrics.sort_values(by='f1', ascending=False)\n",
    "\n",
    "# remove rows where tested on is sc_all\n",
    "metrics = metrics[metrics['tested on'] != 'sc_all']\n",
    "\n"
   ],
   "outputs": [],
   "execution_count": 7
  },
  {
   "metadata": {
    "ExecuteTime": {
     "end_time": "2024-09-09T21:16:08.395155Z",
     "start_time": "2024-09-09T21:16:08.390014Z"
    }
   },
   "cell_type": "code",
   "source": [
    "# convert table to rows training on, columns tested on, values f1\n",
    "metrics = metrics.pivot(index='training on', columns='tested on', values='f1')\n",
    "\n",
    "# round to 2 decimal places\n",
    "metrics = metrics.round(2)\n",
    "\n",
    "metrics"
   ],
   "id": "a1e95e831b23261f",
   "outputs": [
    {
     "data": {
      "text/plain": [
       "tested on       sc_compsent_19  sc_webis_2022\n",
       "training on                                  \n",
       "sc_all                    0.89           0.53\n",
       "sc_compsent_19            0.89           0.42\n",
       "sc_webis_2022             0.42           0.36"
      ],
      "text/html": [
       "<div>\n",
       "<style scoped>\n",
       "    .dataframe tbody tr th:only-of-type {\n",
       "        vertical-align: middle;\n",
       "    }\n",
       "\n",
       "    .dataframe tbody tr th {\n",
       "        vertical-align: top;\n",
       "    }\n",
       "\n",
       "    .dataframe thead th {\n",
       "        text-align: right;\n",
       "    }\n",
       "</style>\n",
       "<table border=\"1\" class=\"dataframe\">\n",
       "  <thead>\n",
       "    <tr style=\"text-align: right;\">\n",
       "      <th>tested on</th>\n",
       "      <th>sc_compsent_19</th>\n",
       "      <th>sc_webis_2022</th>\n",
       "    </tr>\n",
       "    <tr>\n",
       "      <th>training on</th>\n",
       "      <th></th>\n",
       "      <th></th>\n",
       "    </tr>\n",
       "  </thead>\n",
       "  <tbody>\n",
       "    <tr>\n",
       "      <th>sc_all</th>\n",
       "      <td>0.89</td>\n",
       "      <td>0.53</td>\n",
       "    </tr>\n",
       "    <tr>\n",
       "      <th>sc_compsent_19</th>\n",
       "      <td>0.89</td>\n",
       "      <td>0.42</td>\n",
       "    </tr>\n",
       "    <tr>\n",
       "      <th>sc_webis_2022</th>\n",
       "      <td>0.42</td>\n",
       "      <td>0.36</td>\n",
       "    </tr>\n",
       "  </tbody>\n",
       "</table>\n",
       "</div>"
      ]
     },
     "execution_count": 8,
     "metadata": {},
     "output_type": "execute_result"
    }
   ],
   "execution_count": 8
  },
  {
   "metadata": {},
   "cell_type": "code",
   "outputs": [],
   "execution_count": null,
   "source": "",
   "id": "aa0ca447f158b530"
  }
 ],
 "metadata": {
  "kernelspec": {
   "display_name": "Python 3",
   "language": "python",
   "name": "python3"
  },
  "language_info": {
   "codemirror_mode": {
    "name": "ipython",
    "version": 2
   },
   "file_extension": ".py",
   "mimetype": "text/x-python",
   "name": "python",
   "nbconvert_exporter": "python",
   "pygments_lexer": "ipython2",
   "version": "2.7.6"
  }
 },
 "nbformat": 4,
 "nbformat_minor": 5
}

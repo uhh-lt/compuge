{
 "cells": [
  {
   "cell_type": "code",
   "id": "initial_id",
   "metadata": {
    "collapsed": true,
    "ExecuteTime": {
     "end_time": "2024-09-09T18:42:40.707441Z",
     "start_time": "2024-09-09T18:42:40.259724Z"
    }
   },
   "source": [
    "import pandas as pd\n",
    "\n",
    "metrics = [\n",
    "    pd.read_csv(f'{folder}/metrics.csv') for folder in ['FacebookAI', 'google-bert', 'microsoft']\n",
    "    ]\n",
    "# header of each metrics file: training on,tested on,model,accuracy,precision,recall,f1\n",
    "# make a new metrics file, with training on, testedon, average accuracy, average precision, average recall, average f1\n",
    "# sort by f1 score\n",
    "# remove model column\n",
    "metrics = pd.concat(metrics)\n",
    "metrics = metrics.drop(columns=['model'])\n",
    "metrics = metrics.groupby(['training on', 'tested on']).mean().reset_index()\n",
    "metrics = metrics.sort_values(by='f1', ascending=False)\n",
    "\n",
    "# remove rows where tested on is sc_all\n",
    "metrics = metrics[metrics['tested on'] != 'sc_all']\n",
    "\n",
    "# save the metrics file\n",
    "metrics.to_csv('metrics.csv', index=False)"
   ],
   "outputs": [],
   "execution_count": 1
  },
  {
   "metadata": {
    "ExecuteTime": {
     "end_time": "2024-09-09T18:42:49.494527Z",
     "start_time": "2024-09-09T18:42:49.481982Z"
    }
   },
   "cell_type": "code",
   "source": "metrics",
   "id": "bcad446c83ea903d",
   "outputs": [
    {
     "data": {
      "text/plain": [
       "      training on       tested on  accuracy  precision    recall        f1\n",
       "1          sc_all  sc_compsent_19  0.893056   0.891381  0.893056  0.889903\n",
       "4  sc_compsent_19  sc_compsent_19  0.885417   0.886204  0.885417  0.885369\n",
       "2          sc_all   sc_webis_2022  0.560345   0.557102  0.560345  0.532995\n",
       "7   sc_webis_2022  sc_compsent_19  0.482986   0.406442  0.482986  0.416524\n",
       "5  sc_compsent_19   sc_webis_2022  0.534483   0.343905  0.534483  0.416397\n",
       "8   sc_webis_2022   sc_webis_2022  0.482759   0.289340  0.482759  0.355080"
      ],
      "text/html": [
       "<div>\n",
       "<style scoped>\n",
       "    .dataframe tbody tr th:only-of-type {\n",
       "        vertical-align: middle;\n",
       "    }\n",
       "\n",
       "    .dataframe tbody tr th {\n",
       "        vertical-align: top;\n",
       "    }\n",
       "\n",
       "    .dataframe thead th {\n",
       "        text-align: right;\n",
       "    }\n",
       "</style>\n",
       "<table border=\"1\" class=\"dataframe\">\n",
       "  <thead>\n",
       "    <tr style=\"text-align: right;\">\n",
       "      <th></th>\n",
       "      <th>training on</th>\n",
       "      <th>tested on</th>\n",
       "      <th>accuracy</th>\n",
       "      <th>precision</th>\n",
       "      <th>recall</th>\n",
       "      <th>f1</th>\n",
       "    </tr>\n",
       "  </thead>\n",
       "  <tbody>\n",
       "    <tr>\n",
       "      <th>1</th>\n",
       "      <td>sc_all</td>\n",
       "      <td>sc_compsent_19</td>\n",
       "      <td>0.893056</td>\n",
       "      <td>0.891381</td>\n",
       "      <td>0.893056</td>\n",
       "      <td>0.889903</td>\n",
       "    </tr>\n",
       "    <tr>\n",
       "      <th>4</th>\n",
       "      <td>sc_compsent_19</td>\n",
       "      <td>sc_compsent_19</td>\n",
       "      <td>0.885417</td>\n",
       "      <td>0.886204</td>\n",
       "      <td>0.885417</td>\n",
       "      <td>0.885369</td>\n",
       "    </tr>\n",
       "    <tr>\n",
       "      <th>2</th>\n",
       "      <td>sc_all</td>\n",
       "      <td>sc_webis_2022</td>\n",
       "      <td>0.560345</td>\n",
       "      <td>0.557102</td>\n",
       "      <td>0.560345</td>\n",
       "      <td>0.532995</td>\n",
       "    </tr>\n",
       "    <tr>\n",
       "      <th>7</th>\n",
       "      <td>sc_webis_2022</td>\n",
       "      <td>sc_compsent_19</td>\n",
       "      <td>0.482986</td>\n",
       "      <td>0.406442</td>\n",
       "      <td>0.482986</td>\n",
       "      <td>0.416524</td>\n",
       "    </tr>\n",
       "    <tr>\n",
       "      <th>5</th>\n",
       "      <td>sc_compsent_19</td>\n",
       "      <td>sc_webis_2022</td>\n",
       "      <td>0.534483</td>\n",
       "      <td>0.343905</td>\n",
       "      <td>0.534483</td>\n",
       "      <td>0.416397</td>\n",
       "    </tr>\n",
       "    <tr>\n",
       "      <th>8</th>\n",
       "      <td>sc_webis_2022</td>\n",
       "      <td>sc_webis_2022</td>\n",
       "      <td>0.482759</td>\n",
       "      <td>0.289340</td>\n",
       "      <td>0.482759</td>\n",
       "      <td>0.355080</td>\n",
       "    </tr>\n",
       "  </tbody>\n",
       "</table>\n",
       "</div>"
      ]
     },
     "execution_count": 2,
     "metadata": {},
     "output_type": "execute_result"
    }
   ],
   "execution_count": 2
  }
 ],
 "metadata": {
  "kernelspec": {
   "display_name": "Python 3",
   "language": "python",
   "name": "python3"
  },
  "language_info": {
   "codemirror_mode": {
    "name": "ipython",
    "version": 2
   },
   "file_extension": ".py",
   "mimetype": "text/x-python",
   "name": "python",
   "nbconvert_exporter": "python",
   "pygments_lexer": "ipython2",
   "version": "2.7.6"
  }
 },
 "nbformat": 4,
 "nbformat_minor": 5
}

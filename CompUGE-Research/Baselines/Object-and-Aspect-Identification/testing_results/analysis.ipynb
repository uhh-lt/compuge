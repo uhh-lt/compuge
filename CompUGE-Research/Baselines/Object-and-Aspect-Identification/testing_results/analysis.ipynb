{
 "cells": [
  {
   "metadata": {
    "ExecuteTime": {
     "end_time": "2024-09-07T16:36:04.722737Z",
     "start_time": "2024-09-07T16:36:04.699296Z"
    }
   },
   "cell_type": "code",
   "source": [
    "import pandas as pd\n",
    "\n",
    "metrics = [\n",
    "    pd.read_csv(f'{folder}/metrics.csv') for folder in ['dslim-bert-base-NER-uncased', 'FacebookAI-roberta-base', 'google-bert-bert-base-uncased', 'microsoft-deberta-v3-base']\n",
    "    ]\n",
    "# header of each metrics file: training on,tested on,model,accuracy,precision,recall,f1\n",
    "# make a new metrics file, with training on, testedon, average accuracy, average precision, average recall, average f1\n",
    "# sort by f1 score\n",
    "# remove model column\n",
    "metrics = pd.concat(metrics)\n",
    "metrics = metrics.drop(columns=['model'])\n",
    "metrics = metrics.groupby(['training on', 'tested on']).mean().reset_index()\n",
    "metrics = metrics.sort_values(by='f1', ascending=False)\n",
    "\n",
    "# save the metrics file\n",
    "metrics.to_csv('metrics.csv', index=False)"
   ],
   "id": "f06856681ca6e8d8",
   "outputs": [],
   "execution_count": 2
  },
  {
   "metadata": {
    "ExecuteTime": {
     "end_time": "2024-09-09T11:22:25.154309Z",
     "start_time": "2024-09-09T11:22:25.132472Z"
    }
   },
   "cell_type": "code",
   "source": [
    "import pandas as pd\n",
    "\n",
    "metrics = pd.read_csv('microsoft-deberta-v3-base/metrics.csv')\n",
    "\n",
    "# keep only columns that contain f1 \n",
    "metrics = metrics[metrics.columns[metrics.columns.str.contains('f1|training on|tested on')]]\n",
    "\n",
    "# remove all rows that are tested on \"qi_all\"\n",
    "metrics = metrics[~metrics['tested on'].str.contains('oai_all')]\n",
    "\n",
    "# remove rows where training on and tested on are the same\n",
    "#metrics = metrics[metrics['training on'] != metrics['tested on']]\n",
    "\n",
    "# keep only rows where tested on contains either beloucif or webis\n",
    "metrics = metrics[metrics['tested on'].str.contains('chekalina')]\n",
    "\n",
    "metrics"
   ],
   "id": "3a8180ab03ff8a73",
   "outputs": [
    {
     "data": {
      "text/plain": [
       "                      training on           tested on        f1  object_f1  \\\n",
       "2                  oai_webis_2022  oai_chekalina_2021  0.497897   0.445119   \n",
       "6                    oai_beloucif  oai_chekalina_2021  0.396611   0.485855   \n",
       "10             oai_chekalina_2021  oai_chekalina_2021  0.859292   0.920684   \n",
       "14                        oai_all  oai_chekalina_2021  0.847296   0.892649   \n",
       "18     oai_chekalina_webis_merged  oai_chekalina_2021  0.858021   0.913695   \n",
       "22  oai_chekalina_beloucif_merged  oai_chekalina_2021  0.859649   0.911795   \n",
       "26      oai_webis_beloucif_merged  oai_chekalina_2021  0.462372   0.409167   \n",
       "\n",
       "    aspect_f1  \n",
       "2    0.555008  \n",
       "6    0.247168  \n",
       "10   0.787952  \n",
       "14   0.796186  \n",
       "18   0.792453  \n",
       "22   0.799764  \n",
       "26   0.533036  "
      ],
      "text/html": [
       "<div>\n",
       "<style scoped>\n",
       "    .dataframe tbody tr th:only-of-type {\n",
       "        vertical-align: middle;\n",
       "    }\n",
       "\n",
       "    .dataframe tbody tr th {\n",
       "        vertical-align: top;\n",
       "    }\n",
       "\n",
       "    .dataframe thead th {\n",
       "        text-align: right;\n",
       "    }\n",
       "</style>\n",
       "<table border=\"1\" class=\"dataframe\">\n",
       "  <thead>\n",
       "    <tr style=\"text-align: right;\">\n",
       "      <th></th>\n",
       "      <th>training on</th>\n",
       "      <th>tested on</th>\n",
       "      <th>f1</th>\n",
       "      <th>object_f1</th>\n",
       "      <th>aspect_f1</th>\n",
       "    </tr>\n",
       "  </thead>\n",
       "  <tbody>\n",
       "    <tr>\n",
       "      <th>2</th>\n",
       "      <td>oai_webis_2022</td>\n",
       "      <td>oai_chekalina_2021</td>\n",
       "      <td>0.497897</td>\n",
       "      <td>0.445119</td>\n",
       "      <td>0.555008</td>\n",
       "    </tr>\n",
       "    <tr>\n",
       "      <th>6</th>\n",
       "      <td>oai_beloucif</td>\n",
       "      <td>oai_chekalina_2021</td>\n",
       "      <td>0.396611</td>\n",
       "      <td>0.485855</td>\n",
       "      <td>0.247168</td>\n",
       "    </tr>\n",
       "    <tr>\n",
       "      <th>10</th>\n",
       "      <td>oai_chekalina_2021</td>\n",
       "      <td>oai_chekalina_2021</td>\n",
       "      <td>0.859292</td>\n",
       "      <td>0.920684</td>\n",
       "      <td>0.787952</td>\n",
       "    </tr>\n",
       "    <tr>\n",
       "      <th>14</th>\n",
       "      <td>oai_all</td>\n",
       "      <td>oai_chekalina_2021</td>\n",
       "      <td>0.847296</td>\n",
       "      <td>0.892649</td>\n",
       "      <td>0.796186</td>\n",
       "    </tr>\n",
       "    <tr>\n",
       "      <th>18</th>\n",
       "      <td>oai_chekalina_webis_merged</td>\n",
       "      <td>oai_chekalina_2021</td>\n",
       "      <td>0.858021</td>\n",
       "      <td>0.913695</td>\n",
       "      <td>0.792453</td>\n",
       "    </tr>\n",
       "    <tr>\n",
       "      <th>22</th>\n",
       "      <td>oai_chekalina_beloucif_merged</td>\n",
       "      <td>oai_chekalina_2021</td>\n",
       "      <td>0.859649</td>\n",
       "      <td>0.911795</td>\n",
       "      <td>0.799764</td>\n",
       "    </tr>\n",
       "    <tr>\n",
       "      <th>26</th>\n",
       "      <td>oai_webis_beloucif_merged</td>\n",
       "      <td>oai_chekalina_2021</td>\n",
       "      <td>0.462372</td>\n",
       "      <td>0.409167</td>\n",
       "      <td>0.533036</td>\n",
       "    </tr>\n",
       "  </tbody>\n",
       "</table>\n",
       "</div>"
      ]
     },
     "execution_count": 15,
     "metadata": {},
     "output_type": "execute_result"
    }
   ],
   "execution_count": 15
  },
  {
   "metadata": {},
   "cell_type": "code",
   "outputs": [],
   "execution_count": null,
   "source": "",
   "id": "f2e2f3bc3e929bc9"
  }
 ],
 "metadata": {
  "kernelspec": {
   "display_name": "Python 3",
   "language": "python",
   "name": "python3"
  },
  "language_info": {
   "codemirror_mode": {
    "name": "ipython",
    "version": 2
   },
   "file_extension": ".py",
   "mimetype": "text/x-python",
   "name": "python",
   "nbconvert_exporter": "python",
   "pygments_lexer": "ipython2",
   "version": "2.7.6"
  }
 },
 "nbformat": 4,
 "nbformat_minor": 5
}

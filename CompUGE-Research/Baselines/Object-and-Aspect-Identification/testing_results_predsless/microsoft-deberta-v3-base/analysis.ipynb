{
 "cells": [
  {
   "metadata": {
    "collapsed": true,
    "ExecuteTime": {
     "end_time": "2024-09-09T20:53:46.628993Z",
     "start_time": "2024-09-09T20:53:46.587610Z"
    }
   },
   "cell_type": "code",
   "source": [
    "import pandas as pd\n",
    "\n",
    "metrics = pd.read_csv('metrics.csv')\n",
    "\n",
    "# keep only columns that contain f1 or training on or tested on\n",
    "metrics = metrics[metrics.columns[metrics.columns.str.contains('f1|training on|tested on')]]\n",
    "\n",
    "\n",
    "metrics = metrics[~metrics['tested on'].str.contains('oai_all')]\n",
    "\n",
    "# convert to a table where rows are trainin on, columns are tested on and values are f1\n",
    "metrics = metrics.pivot(index='training on', columns='tested on', values='f1')\n",
    "\n",
    "metrics"
   ],
   "id": "initial_id",
   "outputs": [
    {
     "data": {
      "text/plain": [
       "tested on                      oai_beloucif  oai_chekalina_2021  \\\n",
       "training on                                                       \n",
       "oai_all                            0.765974            0.839329   \n",
       "oai_beloucif                       0.768647            0.401909   \n",
       "oai_chekalina_2021                 0.277627            0.849282   \n",
       "oai_chekalina_beloucif_merged      0.767251            0.843935   \n",
       "oai_chekalina_webis_merged         0.691581            0.844600   \n",
       "oai_webis_2022                     0.690049            0.385806   \n",
       "oai_webis_beloucif_merged          0.771888            0.419118   \n",
       "\n",
       "tested on                      oai_webis_2022  \n",
       "training on                                    \n",
       "oai_all                              0.734851  \n",
       "oai_beloucif                         0.377523  \n",
       "oai_chekalina_2021                   0.136185  \n",
       "oai_chekalina_beloucif_merged        0.337307  \n",
       "oai_chekalina_webis_merged           0.789594  \n",
       "oai_webis_2022                       0.792779  \n",
       "oai_webis_beloucif_merged            0.771714  "
      ],
      "text/html": [
       "<div>\n",
       "<style scoped>\n",
       "    .dataframe tbody tr th:only-of-type {\n",
       "        vertical-align: middle;\n",
       "    }\n",
       "\n",
       "    .dataframe tbody tr th {\n",
       "        vertical-align: top;\n",
       "    }\n",
       "\n",
       "    .dataframe thead th {\n",
       "        text-align: right;\n",
       "    }\n",
       "</style>\n",
       "<table border=\"1\" class=\"dataframe\">\n",
       "  <thead>\n",
       "    <tr style=\"text-align: right;\">\n",
       "      <th>tested on</th>\n",
       "      <th>oai_beloucif</th>\n",
       "      <th>oai_chekalina_2021</th>\n",
       "      <th>oai_webis_2022</th>\n",
       "    </tr>\n",
       "    <tr>\n",
       "      <th>training on</th>\n",
       "      <th></th>\n",
       "      <th></th>\n",
       "      <th></th>\n",
       "    </tr>\n",
       "  </thead>\n",
       "  <tbody>\n",
       "    <tr>\n",
       "      <th>oai_all</th>\n",
       "      <td>0.765974</td>\n",
       "      <td>0.839329</td>\n",
       "      <td>0.734851</td>\n",
       "    </tr>\n",
       "    <tr>\n",
       "      <th>oai_beloucif</th>\n",
       "      <td>0.768647</td>\n",
       "      <td>0.401909</td>\n",
       "      <td>0.377523</td>\n",
       "    </tr>\n",
       "    <tr>\n",
       "      <th>oai_chekalina_2021</th>\n",
       "      <td>0.277627</td>\n",
       "      <td>0.849282</td>\n",
       "      <td>0.136185</td>\n",
       "    </tr>\n",
       "    <tr>\n",
       "      <th>oai_chekalina_beloucif_merged</th>\n",
       "      <td>0.767251</td>\n",
       "      <td>0.843935</td>\n",
       "      <td>0.337307</td>\n",
       "    </tr>\n",
       "    <tr>\n",
       "      <th>oai_chekalina_webis_merged</th>\n",
       "      <td>0.691581</td>\n",
       "      <td>0.844600</td>\n",
       "      <td>0.789594</td>\n",
       "    </tr>\n",
       "    <tr>\n",
       "      <th>oai_webis_2022</th>\n",
       "      <td>0.690049</td>\n",
       "      <td>0.385806</td>\n",
       "      <td>0.792779</td>\n",
       "    </tr>\n",
       "    <tr>\n",
       "      <th>oai_webis_beloucif_merged</th>\n",
       "      <td>0.771888</td>\n",
       "      <td>0.419118</td>\n",
       "      <td>0.771714</td>\n",
       "    </tr>\n",
       "  </tbody>\n",
       "</table>\n",
       "</div>"
      ]
     },
     "execution_count": 25,
     "metadata": {},
     "output_type": "execute_result"
    }
   ],
   "execution_count": 25
  },
  {
   "metadata": {},
   "cell_type": "code",
   "outputs": [],
   "execution_count": null,
   "source": "metrics = metrics[~metrics['accuracy'].isnull()]",
   "id": "91c24f3f19e89e43"
  },
  {
   "metadata": {},
   "cell_type": "code",
   "outputs": [],
   "execution_count": null,
   "source": "",
   "id": "43e168c1561239d3"
  }
 ],
 "metadata": {
  "kernelspec": {
   "display_name": "Python 3",
   "language": "python",
   "name": "python3"
  },
  "language_info": {
   "codemirror_mode": {
    "name": "ipython",
    "version": 2
   },
   "file_extension": ".py",
   "mimetype": "text/x-python",
   "name": "python",
   "nbconvert_exporter": "python",
   "pygments_lexer": "ipython2",
   "version": "2.7.6"
  }
 },
 "nbformat": 4,
 "nbformat_minor": 5
}

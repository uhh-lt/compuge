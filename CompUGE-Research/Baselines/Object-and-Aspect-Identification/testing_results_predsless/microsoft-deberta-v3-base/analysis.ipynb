{
 "cells": [
  {
   "metadata": {
    "collapsed": true,
    "ExecuteTime": {
     "end_time": "2024-09-09T11:03:20.364741Z",
     "start_time": "2024-09-09T11:03:20.349460Z"
    }
   },
   "cell_type": "code",
   "source": [
    "import pandas as pd\n",
    "\n",
    "metrics = pd.read_csv('metrics.csv')\n",
    "\n",
    "# keep only columns that contain f1 or training on or tested on\n",
    "metrics = metrics[metrics.columns[metrics.columns.str.contains('f1|training on|tested on')]]\n",
    "\n",
    "\n",
    "metrics = metrics[~metrics['tested on'].str.contains('oai_all')]\n",
    "\n",
    "# remove the rows where training on and tested on are the same\n",
    "\n",
    "# remove all rows that contain all or chekalina in any column\n",
    "metrics = metrics[~metrics['training on'].str.contains('all')]\n",
    "metrics = metrics[~metrics['tested on'].str.contains('all')]\n",
    "metrics = metrics[~metrics['training on'].str.contains('chekalina')]\n",
    "metrics = metrics[~metrics['tested on'].str.contains('chekalina')]\n",
    "\n",
    "metrics"
   ],
   "id": "initial_id",
   "outputs": [
    {
     "data": {
      "text/plain": [
       "                  training on       tested on        f1  object_f1  aspect_f1\n",
       "0              oai_webis_2022  oai_webis_2022  0.792779   0.831414   0.677116\n",
       "1              oai_webis_2022    oai_beloucif  0.690049   0.777499   0.312364\n",
       "4                oai_beloucif  oai_webis_2022  0.377523   0.460101   0.117647\n",
       "5                oai_beloucif    oai_beloucif  0.768647   0.825314   0.533623\n",
       "24  oai_webis_beloucif_merged  oai_webis_2022  0.771714   0.810471   0.664740\n",
       "25  oai_webis_beloucif_merged    oai_beloucif  0.771888   0.823887   0.591944"
      ],
      "text/html": [
       "<div>\n",
       "<style scoped>\n",
       "    .dataframe tbody tr th:only-of-type {\n",
       "        vertical-align: middle;\n",
       "    }\n",
       "\n",
       "    .dataframe tbody tr th {\n",
       "        vertical-align: top;\n",
       "    }\n",
       "\n",
       "    .dataframe thead th {\n",
       "        text-align: right;\n",
       "    }\n",
       "</style>\n",
       "<table border=\"1\" class=\"dataframe\">\n",
       "  <thead>\n",
       "    <tr style=\"text-align: right;\">\n",
       "      <th></th>\n",
       "      <th>training on</th>\n",
       "      <th>tested on</th>\n",
       "      <th>f1</th>\n",
       "      <th>object_f1</th>\n",
       "      <th>aspect_f1</th>\n",
       "    </tr>\n",
       "  </thead>\n",
       "  <tbody>\n",
       "    <tr>\n",
       "      <th>0</th>\n",
       "      <td>oai_webis_2022</td>\n",
       "      <td>oai_webis_2022</td>\n",
       "      <td>0.792779</td>\n",
       "      <td>0.831414</td>\n",
       "      <td>0.677116</td>\n",
       "    </tr>\n",
       "    <tr>\n",
       "      <th>1</th>\n",
       "      <td>oai_webis_2022</td>\n",
       "      <td>oai_beloucif</td>\n",
       "      <td>0.690049</td>\n",
       "      <td>0.777499</td>\n",
       "      <td>0.312364</td>\n",
       "    </tr>\n",
       "    <tr>\n",
       "      <th>4</th>\n",
       "      <td>oai_beloucif</td>\n",
       "      <td>oai_webis_2022</td>\n",
       "      <td>0.377523</td>\n",
       "      <td>0.460101</td>\n",
       "      <td>0.117647</td>\n",
       "    </tr>\n",
       "    <tr>\n",
       "      <th>5</th>\n",
       "      <td>oai_beloucif</td>\n",
       "      <td>oai_beloucif</td>\n",
       "      <td>0.768647</td>\n",
       "      <td>0.825314</td>\n",
       "      <td>0.533623</td>\n",
       "    </tr>\n",
       "    <tr>\n",
       "      <th>24</th>\n",
       "      <td>oai_webis_beloucif_merged</td>\n",
       "      <td>oai_webis_2022</td>\n",
       "      <td>0.771714</td>\n",
       "      <td>0.810471</td>\n",
       "      <td>0.664740</td>\n",
       "    </tr>\n",
       "    <tr>\n",
       "      <th>25</th>\n",
       "      <td>oai_webis_beloucif_merged</td>\n",
       "      <td>oai_beloucif</td>\n",
       "      <td>0.771888</td>\n",
       "      <td>0.823887</td>\n",
       "      <td>0.591944</td>\n",
       "    </tr>\n",
       "  </tbody>\n",
       "</table>\n",
       "</div>"
      ]
     },
     "execution_count": 23,
     "metadata": {},
     "output_type": "execute_result"
    }
   ],
   "execution_count": 23
  },
  {
   "metadata": {},
   "cell_type": "code",
   "outputs": [],
   "execution_count": null,
   "source": "metrics = metrics[~metrics['accuracy'].isnull()]",
   "id": "91c24f3f19e89e43"
  },
  {
   "metadata": {},
   "cell_type": "code",
   "outputs": [],
   "execution_count": null,
   "source": "",
   "id": "43e168c1561239d3"
  }
 ],
 "metadata": {
  "kernelspec": {
   "display_name": "Python 3",
   "language": "python",
   "name": "python3"
  },
  "language_info": {
   "codemirror_mode": {
    "name": "ipython",
    "version": 2
   },
   "file_extension": ".py",
   "mimetype": "text/x-python",
   "name": "python",
   "nbconvert_exporter": "python",
   "pygments_lexer": "ipython2",
   "version": "2.7.6"
  }
 },
 "nbformat": 4,
 "nbformat_minor": 5
}

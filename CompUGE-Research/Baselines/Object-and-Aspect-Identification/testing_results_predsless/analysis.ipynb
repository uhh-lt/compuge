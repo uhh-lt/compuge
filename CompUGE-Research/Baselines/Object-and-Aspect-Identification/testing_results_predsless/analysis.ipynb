{
 "cells": [
  {
   "cell_type": "code",
   "execution_count": null,
   "id": "initial_id",
   "metadata": {
    "collapsed": true
   },
   "outputs": [],
   "source": [
    "import pandas as pd\n",
    "\n",
    "metrics = [\n",
    "    pd.read_csv(f'{folder}/metrics.csv') for folder in ['dslim-bert-base-NER-uncased', 'FacebookAI-roberta-base', 'google-bert-bert-base-uncased', 'microsoft-deberta-v3-base']\n",
    "    ]\n",
    "# header of each metrics file: training on,tested on,model,accuracy,precision,recall,f1\n",
    "# make a new metrics file, with training on, testedon, average accuracy, average precision, average recall, average f1\n",
    "# sort by f1 score\n",
    "# remove model column\n",
    "metrics = pd.concat(metrics)\n",
    "metrics = metrics.drop(columns=['model'])\n",
    "metrics = metrics.groupby(['training on', 'tested on']).mean().reset_index()\n",
    "metrics = metrics.sort_values(by='f1', ascending=False)\n",
    "\n",
    "# save the metrics file\n",
    "metrics.to_csv('metrics.csv', index=False)"
   ]
  },
  {
   "metadata": {},
   "cell_type": "code",
   "outputs": [],
   "execution_count": null,
   "source": [
    "import pandas as pd\n",
    "\n",
    "metrics = pd.read_csv('microsoft-deberta-v3-base/metrics.csv')\n",
    "\n",
    "# keep only columns that contain f1 \n",
    "metrics = metrics[metrics.columns[metrics.columns.str.contains('f1|training on|tested on')]]\n",
    "\n",
    "# remove all rows that are tested on \"qi_all\"\n",
    "metrics = metrics[~metrics['tested on'].str.contains('oai_all')]\n",
    "\n",
    "# remove rows where training on and tested on are the same\n",
    "#metrics = metrics[metrics['training on'] != metrics['tested on']]\n",
    "\n",
    "# keep only rows where tested on contains either beloucif or webis\n",
    "metrics = metrics[metrics['tested on'].str.contains('chekalina')]\n",
    "\n",
    "metrics"
   ],
   "id": "a3ecfcbbce10c02c"
  }
 ],
 "metadata": {
  "kernelspec": {
   "display_name": "Python 3",
   "language": "python",
   "name": "python3"
  },
  "language_info": {
   "codemirror_mode": {
    "name": "ipython",
    "version": 2
   },
   "file_extension": ".py",
   "mimetype": "text/x-python",
   "name": "python",
   "nbconvert_exporter": "python",
   "pygments_lexer": "ipython2",
   "version": "2.7.6"
  }
 },
 "nbformat": 4,
 "nbformat_minor": 5
}

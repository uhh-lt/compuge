{
 "cells": [
  {
   "cell_type": "code",
   "id": "initial_id",
   "metadata": {
    "collapsed": true,
    "ExecuteTime": {
     "end_time": "2024-07-30T12:12:12.265642Z",
     "start_time": "2024-07-30T12:12:12.134032Z"
    }
   },
   "source": [
    "import numpy as np\n",
    "import pandas as pd\n",
    "import json\n",
    "\n",
    "train = pd.read_csv('CAM 2.0 Splits/Comparative Question Identication/Webis-CompQuestions-22_comparative-or-not-questions/train.csv', sep=',')\n",
    "\n",
    "valid = pd.read_csv('CAM 2.0 Splits/Comparative Question Identication/Webis-CompQuestions-22_comparative-or-not-questions/valid.csv', sep=',')\n",
    "\n",
    "test = pd.read_csv('CAM 2.0 Splits/Comparative Question Identication/Webis-CompQuestions-22_comparative-or-not-questions/test.csv', sep=',')\n",
    "\n",
    "# columns: id,comp,question,clean,pos,lemma\n",
    "# only keep question and comp columns\n",
    "train = train[['question', 'comp']]\n",
    "valid = valid[['question', 'comp']]\n",
    "test = test[['question', 'comp']]\n",
    "\n",
    "# merge train and valid\n",
    "train = pd.concat([train, valid])\n",
    "\n",
    "# rename comp column to label and make label first\n",
    "train = train.rename(columns={'comp': 'label'})\n",
    "test = test.rename(columns={'comp': 'label'})\n",
    "\n",
    "# save to csv in split folder \"Splits/webis_comparative_questions_2022_qi\"\n",
    "# create directory if not exists\n",
    "import os\n",
    "if not os.path.exists('Splits/webis_comparative_questions_2022_qi'):\n",
    "    os.makedirs('Splits/webis_comparative_questions_2022_qi')\n",
    "\n",
    "train.to_csv('Splits/webis_comparative_questions_2022_qi/train.csv', index=False)\n",
    "test.to_csv('Splits/webis_comparative_questions_2022_qi/test.csv', index=False)"
   ],
   "outputs": [],
   "execution_count": 13
  },
  {
   "metadata": {},
   "cell_type": "code",
   "outputs": [],
   "execution_count": null,
   "source": "",
   "id": "54f9ea3fe3c3d5b1"
  }
 ],
 "metadata": {
  "kernelspec": {
   "display_name": "Python 3",
   "language": "python",
   "name": "python3"
  },
  "language_info": {
   "codemirror_mode": {
    "name": "ipython",
    "version": 2
   },
   "file_extension": ".py",
   "mimetype": "text/x-python",
   "name": "python",
   "nbconvert_exporter": "python",
   "pygments_lexer": "ipython2",
   "version": "2.7.6"
  }
 },
 "nbformat": 4,
 "nbformat_minor": 5
}

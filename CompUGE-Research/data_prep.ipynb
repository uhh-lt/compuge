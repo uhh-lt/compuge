{
 "cells": [
  {
   "cell_type": "code",
   "id": "initial_id",
   "metadata": {
    "collapsed": true,
    "ExecuteTime": {
     "end_time": "2024-08-01T07:45:41.362487Z",
     "start_time": "2024-08-01T07:45:41.324340Z"
    }
   },
   "source": "",
   "outputs": [
    {
     "data": {
      "text/plain": [
       "                                               input  \\\n",
       "0  Summarize: And Georgia is probably better than...   \n",
       "1  Summarize: And Georgia is probably better than...   \n",
       "2  Summarize: And Georgia is probably better than...   \n",
       "3  Summarize: even homogenized pasterized milk is...   \n",
       "4  Summarize: even homogenized pasterized milk is...   \n",
       "\n",
       "                                              output  \n",
       "0  Georgia and Virginia are two states in the Uni...  \n",
       "1  Georgia and Virginia are two states in the Uni...  \n",
       "2  Georgia and Virginia are two states in the Uni...  \n",
       "3  Milk and soda are two popular beverages with d...  \n",
       "4  Milk and soda are both popular beverages, but ...  "
      ],
      "text/html": [
       "<div>\n",
       "<style scoped>\n",
       "    .dataframe tbody tr th:only-of-type {\n",
       "        vertical-align: middle;\n",
       "    }\n",
       "\n",
       "    .dataframe tbody tr th {\n",
       "        vertical-align: top;\n",
       "    }\n",
       "\n",
       "    .dataframe thead th {\n",
       "        text-align: right;\n",
       "    }\n",
       "</style>\n",
       "<table border=\"1\" class=\"dataframe\">\n",
       "  <thead>\n",
       "    <tr style=\"text-align: right;\">\n",
       "      <th></th>\n",
       "      <th>input</th>\n",
       "      <th>output</th>\n",
       "    </tr>\n",
       "  </thead>\n",
       "  <tbody>\n",
       "    <tr>\n",
       "      <th>0</th>\n",
       "      <td>Summarize: And Georgia is probably better than...</td>\n",
       "      <td>Georgia and Virginia are two states in the Uni...</td>\n",
       "    </tr>\n",
       "    <tr>\n",
       "      <th>1</th>\n",
       "      <td>Summarize: And Georgia is probably better than...</td>\n",
       "      <td>Georgia and Virginia are two states in the Uni...</td>\n",
       "    </tr>\n",
       "    <tr>\n",
       "      <th>2</th>\n",
       "      <td>Summarize: And Georgia is probably better than...</td>\n",
       "      <td>Georgia and Virginia are two states in the Uni...</td>\n",
       "    </tr>\n",
       "    <tr>\n",
       "      <th>3</th>\n",
       "      <td>Summarize: even homogenized pasterized milk is...</td>\n",
       "      <td>Milk and soda are two popular beverages with d...</td>\n",
       "    </tr>\n",
       "    <tr>\n",
       "      <th>4</th>\n",
       "      <td>Summarize: even homogenized pasterized milk is...</td>\n",
       "      <td>Milk and soda are both popular beverages, but ...</td>\n",
       "    </tr>\n",
       "  </tbody>\n",
       "</table>\n",
       "</div>"
      ]
     },
     "execution_count": 12,
     "metadata": {},
     "output_type": "execute_result"
    }
   ],
   "execution_count": 12
  },
  {
   "metadata": {},
   "cell_type": "code",
   "outputs": [],
   "execution_count": null,
   "source": "",
   "id": "715e9e2912a1701b"
  }
 ],
 "metadata": {
  "kernelspec": {
   "display_name": "Python 3",
   "language": "python",
   "name": "python3"
  },
  "language_info": {
   "codemirror_mode": {
    "name": "ipython",
    "version": 2
   },
   "file_extension": ".py",
   "mimetype": "text/x-python",
   "name": "python",
   "nbconvert_exporter": "python",
   "pygments_lexer": "ipython2",
   "version": "2.7.6"
  }
 },
 "nbformat": 4,
 "nbformat_minor": 5
}

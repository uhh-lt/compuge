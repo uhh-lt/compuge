{
 "cells": [
  {
   "cell_type": "code",
   "id": "initial_id",
   "metadata": {
    "collapsed": true,
    "ExecuteTime": {
     "end_time": "2024-08-25T18:41:49.131812Z",
     "start_time": "2024-08-25T18:41:49.092986Z"
    }
   },
   "source": [
    "# load the file ../../Raw Datasets/Webis-CompQuestions-22-2/comparative-stance-dataset/stance-dataset.tsv\n",
    "\n",
    "import pandas as pd\n",
    "import numpy as np\n",
    "\n",
    "df = pd.read_csv('../../Raw Datasets/Webis-CompQuestions-22-2/comparative-stance-dataset/stance-dataset.tsv', sep='\\t')\n",
    "# ds\tid\tquestion\tanswer\tanswer_stance\tanswer_stance_object\tobject_count\tobject_1\tmask_pos_1\tobject_2\tmask_pos_2\n",
    "# extract the columns answer,answer_stance,object_1,object_2\n",
    "df = df[['answer', 'answer_stance', 'object_1', 'object_2']]\n",
    "\n",
    "# delete all the rows where the answer is just a number\n",
    "df = df[~df['answer'].str.isnumeric()]\n",
    "\n",
    "# for every row, convert it to this form: sentence,label\n",
    "# \"object_1 [SEP] object_2 [SEP] question [SEP] answer\",answer_stance\n",
    "# where [SEP] is a separator\n",
    "\n",
    "df['sentence'] = df['object_1'] + ' [SEP] ' + df['object_2'] + ' [SEP] ' + df['answer']\n",
    "df['label'] = df['answer_stance']\n",
    "\n",
    "df = df[['sentence', 'label']]\n",
    "# split into train and test and save to the current directory\n",
    "train = df.sample(frac=0.8, random_state=200)\n",
    "test = df.drop(train.index)\n",
    "\n",
    "# this dataset has 4 classes, \n",
    "'''\n",
    "0: pro for object_1 \n",
    "1: pro for object_2\n",
    "2: neutral\n",
    "3: no stance\n",
    "'''\n",
    "# convert to:\n",
    "'''\n",
    "0: neutral\n",
    "1: pro second object\n",
    "2: pro first object\n",
    "'''\n",
    "train['label'] = train['label'].map({0: 2, 1: 1, 2: 0, 3: 0})\n",
    "test['label'] = test['label'].map({0: 2, 1: 1, 2: 0, 3: 0})\n",
    "\n",
    "train.to_csv('train.csv', index=False)\n",
    "test.to_csv('test.csv', index=False)"
   ],
   "outputs": [],
   "execution_count": 7
  },
  {
   "metadata": {},
   "cell_type": "code",
   "outputs": [],
   "execution_count": null,
   "source": "",
   "id": "6726eaa5804ecf86"
  }
 ],
 "metadata": {
  "kernelspec": {
   "display_name": "Python 3",
   "language": "python",
   "name": "python3"
  },
  "language_info": {
   "codemirror_mode": {
    "name": "ipython",
    "version": 2
   },
   "file_extension": ".py",
   "mimetype": "text/x-python",
   "name": "python",
   "nbconvert_exporter": "python",
   "pygments_lexer": "ipython2",
   "version": "2.7.6"
  }
 },
 "nbformat": 4,
 "nbformat_minor": 5
}

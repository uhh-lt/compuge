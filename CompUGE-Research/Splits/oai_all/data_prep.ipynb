{
 "cells": [
  {
   "cell_type": "code",
   "id": "initial_id",
   "metadata": {
    "collapsed": true,
    "ExecuteTime": {
     "end_time": "2024-09-05T23:01:04.205293Z",
     "start_time": "2024-09-05T23:01:04.097881Z"
    }
   },
   "source": [
    "# load train, test and val.csv from ../oai_chekalina_2021, ../oai_beloucif and ../oai_webis_2022\n",
    "import pandas as pd\n",
    "import os\n",
    "\n",
    "train_chek = pd.read_csv('../oai_chekalina_2021/train.csv')\n",
    "test_chek = pd.read_csv('../oai_chekalina_2021/test.csv')\n",
    "val_chek = pd.read_csv('../oai_chekalina_2021/val.csv')\n",
    "\n",
    "train_bel = pd.read_csv('../oai_beloucif/train.csv')\n",
    "test_bel = pd.read_csv('../oai_beloucif/test.csv')\n",
    "val_bel = pd.read_csv('../oai_beloucif/val.csv')\n",
    "\n",
    "train_web = pd.read_csv('../oai_webis_2022/train.csv')\n",
    "test_web = pd.read_csv('../oai_webis_2022/test.csv')\n",
    "val_web = pd.read_csv('../oai_webis_2022/val.csv')\n",
    "\n",
    "# merge the datasets\n",
    "train_all = pd.concat([train_chek, train_bel, train_web])\n",
    "test_all = pd.concat([test_chek, test_bel, test_web])\n",
    "val_all = pd.concat([val_chek, val_bel, val_web])\n",
    "\n",
    "# merge every pair of train, test and val\n",
    "train_webis_beloucif = pd.concat([train_bel, train_web])\n",
    "test_webis_beloucif = pd.concat([test_bel, test_web])\n",
    "val_webis_beloucif = pd.concat([val_bel, val_web])\n",
    "\n",
    "train_chek_beloucif = pd.concat([train_chek, train_bel])\n",
    "test_chek_beloucif = pd.concat([test_chek, test_bel])\n",
    "val_chek_beloucif = pd.concat([val_chek, val_bel])\n",
    "\n",
    "train_chek_webis = pd.concat([train_chek, train_web])\n",
    "test_chek_webis = pd.concat([test_chek, test_web])\n",
    "val_chek_webis = pd.concat([val_chek, val_web])\n",
    "\n",
    "# save the merged datasets to different folders\n",
    "train_all.to_csv('train.csv', index=False)\n",
    "test_all.to_csv('test.csv', index=False)\n",
    "val_all.to_csv('val.csv', index=False)\n",
    "\n",
    "os.makedirs('../oai_webis_beloucif_merged', exist_ok=True)\n",
    "train_webis_beloucif.to_csv('../oai_webis_beloucif_merged/train.csv', index=False)\n",
    "test_webis_beloucif.to_csv('../oai_webis_beloucif_merged/test.csv', index=False)\n",
    "val_webis_beloucif.to_csv('../oai_webis_beloucif_merged/val.csv', index=False)\n",
    "\n",
    "os.makedirs('../oai_chekalina_beloucif_merged', exist_ok=True)\n",
    "train_chek_beloucif.to_csv('../oai_chekalina_beloucif_merged/train.csv', index=False)\n",
    "test_chek_beloucif.to_csv('../oai_chekalina_beloucif_merged/test.csv', index=False)\n",
    "val_chek_beloucif.to_csv('../oai_chekalina_beloucif_merged/val.csv', index=False)\n",
    "\n",
    "os.makedirs('../oai_chekalina_webis_merged', exist_ok=True)\n",
    "train_chek_webis.to_csv('../oai_chekalina_webis_merged/train.csv', index=False)\n",
    "test_chek_webis.to_csv('../oai_chekalina_webis_merged/test.csv', index=False)\n",
    "val_chek_webis.to_csv('../oai_chekalina_webis_merged/val.csv', index=False)"
   ],
   "outputs": [],
   "execution_count": 7
  },
  {
   "metadata": {},
   "cell_type": "code",
   "outputs": [],
   "execution_count": null,
   "source": "",
   "id": "19cf6486d5d3c780"
  }
 ],
 "metadata": {
  "kernelspec": {
   "display_name": "Python 3",
   "language": "python",
   "name": "python3"
  },
  "language_info": {
   "codemirror_mode": {
    "name": "ipython",
    "version": 2
   },
   "file_extension": ".py",
   "mimetype": "text/x-python",
   "name": "python",
   "nbconvert_exporter": "python",
   "pygments_lexer": "ipython2",
   "version": "2.7.6"
  }
 },
 "nbformat": 4,
 "nbformat_minor": 5
}

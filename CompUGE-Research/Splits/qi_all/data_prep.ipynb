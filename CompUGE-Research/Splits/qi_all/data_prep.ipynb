{
 "cells": [
  {
   "cell_type": "code",
   "id": "initial_id",
   "metadata": {
    "collapsed": true,
    "ExecuteTime": {
     "end_time": "2024-09-09T19:11:38.752708Z",
     "start_time": "2024-09-09T19:11:38.700Z"
    }
   },
   "source": [
    "import pandas as pd\n",
    "\n",
    "beloucif_test = pd.read_csv('../qi_beloucif/test.csv')\n",
    "\n",
    "mintaka_test = pd.read_csv('../qi_mintaka/test.csv')\n",
    "mintaka_train = pd.read_csv('../qi_mintaka/train.csv')\n",
    "mintaka_val = pd.read_csv('../qi_mintaka/val.csv')\n",
    "\n",
    "webis_2020_test = pd.read_csv('../qi_webis_2020/test.csv')\n",
    "webis_2020_train = pd.read_csv('../qi_webis_2020/train.csv')\n",
    "\n",
    "webis_2022_test = pd.read_csv('../qi_webis_2022/test.csv')\n",
    "webis_2022_train = pd.read_csv('../qi_webis_2022/train.csv')\n",
    "webis_2022_val = pd.read_csv('../qi_webis_2022/val.csv')\n",
    "\n",
    "# create a validation split for webis_2020\n",
    "webis_2020_val = webis_2020_train.sample(frac=0.2, random_state=42)\n",
    "webis_2020_train = webis_2020_train.drop(webis_2020_val.index)\n",
    "\n",
    "# merge mintaka splits\n",
    "mintaka = pd.concat([mintaka_train, mintaka_val, mintaka_test])\n",
    "# merge webis_2020 splits\n",
    "webis_2020 = pd.concat([webis_2020_train, webis_2020_val, webis_2020_test])\n",
    "# merge webis_2022 splits\n",
    "webis_2022 = pd.concat([webis_2022_train, webis_2022_val, webis_2022_test])\n",
    "\n",
    "# print label distribution for each dataset\n",
    "print('Mintaka:')\n",
    "print(mintaka['label'].value_counts())\n",
    "print('Webis 2020:')\n",
    "print(webis_2020['label'].value_counts())\n",
    "print('Webis 2022:')\n",
    "print(webis_2022['label'].value_counts())\n",
    "print('Beloucif:')\n",
    "print(beloucif_test['label'].value_counts())\n"
   ],
   "outputs": [
    {
     "name": "stdout",
     "output_type": "stream",
     "text": [
      "Mintaka:\n",
      "label\n",
      "0    18000\n",
      "1     2000\n",
      "Name: count, dtype: int64\n",
      "Webis 2020:\n",
      "label\n",
      "0    13569\n",
      "1     1431\n",
      "Name: count, dtype: int64\n",
      "Webis 2022:\n",
      "label\n",
      "0    4938\n",
      "1    4938\n",
      "Name: count, dtype: int64\n",
      "Beloucif:\n",
      "label\n",
      "0    409\n",
      "1    387\n",
      "Name: count, dtype: int64\n"
     ]
    }
   ],
   "execution_count": 2
  },
  {
   "metadata": {
    "ExecuteTime": {
     "end_time": "2024-08-22T21:43:12.158257Z",
     "start_time": "2024-08-22T21:43:12.099806Z"
    }
   },
   "cell_type": "code",
   "source": [
    "# merge all splits into one\n",
    "train = pd.concat([mintaka_train, webis_2020_train, webis_2022_train])\n",
    "val = pd.concat([mintaka_val, webis_2020_val, webis_2022_val])\n",
    "test = pd.concat([beloucif_test, mintaka_test, webis_2020_test, webis_2022_test])\n",
    "\n",
    "# shuffle the data\n",
    "train = train.sample(frac=1, random_state=42)\n",
    "val = val.sample(frac=1, random_state=42)\n",
    "test = test.sample(frac=1, random_state=42)\n",
    "\n",
    "# save the splits\n",
    "train.to_csv('train.csv', index=False)\n",
    "val.to_csv('val.csv', index=False)\n",
    "test.to_csv('test_wBeloucif.csv', index=False)\n",
    "\n",
    "test = pd.concat([mintaka_test, webis_2020_test, webis_2022_test])\n",
    "test = test.sample(frac=1, random_state=42)\n",
    "test.to_csv('test.csv', index=False)"
   ],
   "id": "80155e5c8e4b10cc",
   "outputs": [],
   "execution_count": 6
  },
  {
   "metadata": {
    "ExecuteTime": {
     "end_time": "2024-08-22T21:41:44.850411Z",
     "start_time": "2024-08-22T21:41:44.757702Z"
    }
   },
   "cell_type": "code",
   "source": [
    "# for each 2 datasets, merge them into one and save into a folder called '{split1}_{split2}_merged'\n",
    "from os import path, makedirs\n",
    "\n",
    "datasets_test = {\n",
    "    'beloucif': beloucif_test,\n",
    "    'mintaka': mintaka_test,\n",
    "    'webis_2020': webis_2020_test,\n",
    "    'webis_2022': webis_2022_test\n",
    "}\n",
    "\n",
    "datasets_train = {\n",
    "    'mintaka': mintaka_train,\n",
    "    'webis_2020': webis_2020_train,\n",
    "    'webis_2022': webis_2022_train\n",
    "}\n",
    "\n",
    "datasets_val = {\n",
    "    'mintaka': mintaka_val,\n",
    "    'webis_2020': webis_2020_val,\n",
    "    'webis_2022': webis_2022_val\n",
    "}\n",
    "\n",
    "for split1, split2 in [('mintaka', 'webis_2020'), ('mintaka', 'webis_2022'), ('webis_2020', 'webis_2022')]:\n",
    "    train = pd.concat([datasets_train[split1], datasets_train[split2]])\n",
    "    val = pd.concat([datasets_val[split1], datasets_val[split2]])\n",
    "    test = pd.concat([datasets_test[split1], datasets_test[split2]])\n",
    "\n",
    "    train = train.sample(frac=1, random_state=42)\n",
    "    val = val.sample(frac=1, random_state=42)\n",
    "    test = test.sample(frac=1, random_state=42)\n",
    "\n",
    "    folder = f'../qi_{split1}_{split2}_merged'\n",
    "    if not path.exists(folder):\n",
    "        makedirs(folder)\n",
    "\n",
    "    train.to_csv(f'{folder}/train.csv', index=False)\n",
    "    val.to_csv(f'{folder}/val.csv', index=False)\n",
    "    test.to_csv(f'{folder}/test.csv', index=False)"
   ],
   "id": "8f68a677f46e3625",
   "outputs": [],
   "execution_count": 4
  },
  {
   "metadata": {},
   "cell_type": "code",
   "outputs": [],
   "execution_count": null,
   "source": "",
   "id": "b4fec942aadb424a"
  }
 ],
 "metadata": {
  "kernelspec": {
   "display_name": "Python 3",
   "language": "python",
   "name": "python3"
  },
  "language_info": {
   "codemirror_mode": {
    "name": "ipython",
    "version": 2
   },
   "file_extension": ".py",
   "mimetype": "text/x-python",
   "name": "python",
   "nbconvert_exporter": "python",
   "pygments_lexer": "ipython2",
   "version": "2.7.6"
  }
 },
 "nbformat": 4,
 "nbformat_minor": 5
}

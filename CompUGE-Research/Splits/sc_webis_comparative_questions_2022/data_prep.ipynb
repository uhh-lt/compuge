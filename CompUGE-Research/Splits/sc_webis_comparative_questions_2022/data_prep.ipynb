{
 "cells": [
  {
   "cell_type": "code",
   "id": "initial_id",
   "metadata": {
    "collapsed": true,
    "ExecuteTime": {
     "end_time": "2024-08-09T17:38:18.411913Z",
     "start_time": "2024-08-09T17:38:18.371801Z"
    }
   },
   "source": [
    "# load the file ../../Raw Datasets/Webis-CompQuestions-22-2/comparative-stance-dataset/stance-dataset.tsv\n",
    "\n",
    "import pandas as pd\n",
    "import numpy as np\n",
    "\n",
    "df = pd.read_csv('../../Raw Datasets/Webis-CompQuestions-22-2/comparative-stance-dataset/stance-dataset.tsv', sep='\\t')\n",
    "\n",
    "# extract the columns question,answer,answer_stance,object_1,object_2\n",
    "df = df[['question', 'answer', 'answer_stance', 'object_1', 'object_2']]\n",
    "\n",
    "# for every row, convert it to this form: sentence,label\n",
    "# \"object_1 [SEP] object_2 [SEP] question [SEP] answer\",answer_stance\n",
    "# where [SEP] is a separator\n",
    "\n",
    "df['sentence'] = df['object_1'] + ' [SEP] ' + df['object_2'] + ' [SEP] ' + df['question'] + ' [SEP] ' + df['answer']\n",
    "df['label'] = df['answer_stance']\n",
    "\n",
    "df = df[['sentence', 'label']]\n",
    "# split into train and test and save to the current directory\n",
    "train = df.sample(frac=0.8, random_state=200)\n",
    "test = df.drop(train.index)\n",
    "\n",
    "train.to_csv('train.csv', index=False)\n",
    "test.to_csv('test.csv', index=False)"
   ],
   "outputs": [],
   "execution_count": 2
  },
  {
   "metadata": {},
   "cell_type": "code",
   "outputs": [],
   "execution_count": null,
   "source": "",
   "id": "69f293c6e5359d2a"
  }
 ],
 "metadata": {
  "kernelspec": {
   "display_name": "Python 3",
   "language": "python",
   "name": "python3"
  },
  "language_info": {
   "codemirror_mode": {
    "name": "ipython",
    "version": 2
   },
   "file_extension": ".py",
   "mimetype": "text/x-python",
   "name": "python",
   "nbconvert_exporter": "python",
   "pygments_lexer": "ipython2",
   "version": "2.7.6"
  }
 },
 "nbformat": 4,
 "nbformat_minor": 5
}

{
 "cells": [
  {
   "cell_type": "code",
   "id": "initial_id",
   "metadata": {
    "collapsed": true,
    "ExecuteTime": {
     "end_time": "2024-09-05T09:15:06.439498Z",
     "start_time": "2024-09-05T09:15:06.346390Z"
    }
   },
   "source": [
    "import pandas as pd\n",
    "\n",
    "LABEL_LIST = [\"O\", \"B-OBJ\", \"I-OBJ\", \"B-ASP\", \"I-ASP\"]\n",
    "\n",
    "# Define the cleaning function\n",
    "def clean_tokens(tokens):\n",
    "    # Remove punctuation marks and special characters\n",
    "    cleaned_tokens = [token for token in tokens if token.isalpha()]\n",
    "    return cleaned_tokens\n",
    "\n",
    "\n",
    "def transform_to_iob2_format(labels):\n",
    "    new_labels = []\n",
    "    prev_label = labels[0]\n",
    "    is_first_label = True\n",
    "    for ind in range(1, len(labels)):\n",
    "        label = labels[ind]\n",
    "        if prev_label != label:\n",
    "            new_label = \"B-\" + prev_label if is_first_label else \"I-\" + prev_label\n",
    "            new_labels.append(prev_label if prev_label == \"O\" else new_label)\n",
    "            prev_label = label\n",
    "            is_first_label = True\n",
    "        elif is_first_label:\n",
    "            new_labels.append(prev_label if prev_label == \"O\" else \"B-\" + prev_label)\n",
    "            prev_label = label\n",
    "            is_first_label = False\n",
    "        else:\n",
    "            new_labels.append(prev_label if prev_label == \"O\" else \"I-\" + prev_label)\n",
    "            prev_label = label\n",
    "\n",
    "    new_label = \"B-\" + prev_label if is_first_label else \"I-\" + prev_label\n",
    "    new_labels.append(prev_label if prev_label == \"O\" else new_label)\n",
    "\n",
    "    return new_labels\n",
    "\n",
    "\n",
    "def read_data(filename):\n",
    "    df = (\n",
    "        pd.read_csv(\"../../Raw Datasets/Webis-CompQuestions-22-2/comparative-questions-parsing/\" + filename, sep=\"\\t\")\n",
    "        .groupby(\"sentence_id\")\n",
    "        .agg({\"words\": lambda x: list(x), \"labels\": lambda x: list(x)})\n",
    "    )\n",
    "    \n",
    "    df = df.reset_index(drop=True)\n",
    "    df[\"labels\"] = df[\"labels\"].map(lambda x: transform_to_iob2_format(x))\n",
    "    # convert all PRED labels to ASP\n",
    "    df[\"labels\"] = df[\"labels\"].map(lambda labels: [\"B-ASP\" if label == \"B-PRED\" else label for label in labels])\n",
    "    df[\"labels\"] = df[\"labels\"].map(lambda labels: [\"I-ASP\" if label == \"I-PRED\" else label for label in labels])\n",
    "    df[\"labels\"] = df[\"labels\"].apply(\n",
    "        lambda labels: [LABEL_LIST.index(label) for label in labels]\n",
    "    )\n",
    "    \n",
    "     # Clean the 'words' column\n",
    "    df[\"words\"] = df[\"words\"].map(lambda x: clean_tokens(x))\n",
    "    \n",
    "    return df\n",
    "\n",
    "df = read_data(\"full.tsv\")\n",
    "\n",
    "# split into train, test and val where test is 20% and val is 10%\n",
    "train_df = df.sample(frac=0.7)\n",
    "df = df.drop(train_df.index)\n",
    "test_df = df.sample(frac=0.67)\n",
    "val_df = df.drop(test_df.index)\n",
    "\n",
    "# save the data\n",
    "train_df.to_csv(\"train.csv\", index=False)\n",
    "test_df.to_csv(\"test.csv\", index=False)\n",
    "val_df.to_csv(\"val.csv\", index=False)\n",
    "\n"
   ],
   "outputs": [],
   "execution_count": 3
  },
  {
   "metadata": {},
   "cell_type": "code",
   "outputs": [],
   "execution_count": null,
   "source": "",
   "id": "23b0ded8112ab982"
  }
 ],
 "metadata": {
  "kernelspec": {
   "display_name": "Python 3",
   "language": "python",
   "name": "python3"
  },
  "language_info": {
   "codemirror_mode": {
    "name": "ipython",
    "version": 2
   },
   "file_extension": ".py",
   "mimetype": "text/x-python",
   "name": "python",
   "nbconvert_exporter": "python",
   "pygments_lexer": "ipython2",
   "version": "2.7.6"
  }
 },
 "nbformat": 4,
 "nbformat_minor": 5
}

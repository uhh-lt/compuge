{
 "cells": [
  {
   "cell_type": "code",
   "id": "initial_id",
   "metadata": {
    "collapsed": true,
    "ExecuteTime": {
     "end_time": "2024-08-25T18:49:17.668188Z",
     "start_time": "2024-08-25T18:49:17.631453Z"
    }
   },
   "source": [
    "import pandas as pd\n",
    "\n",
    "compsent_train = pd.read_csv('../sc_compsent_19/train.csv')\n",
    "compsent_val = pd.read_csv('../sc_compsent_19/val.csv')\n",
    "compsent_test = pd.read_csv('../sc_compsent_19/test.csv')\n",
    "\n",
    "webis_2022_train = pd.read_csv('../sc_webis_2022/train.csv')\n",
    "webis_2022_val = pd.read_csv('../sc_webis_2022/val.csv')\n",
    "webis_2022_test = pd.read_csv('../sc_webis_2022/test.csv')"
   ],
   "outputs": [],
   "execution_count": 29
  },
  {
   "metadata": {
    "ExecuteTime": {
     "end_time": "2024-08-25T18:49:18.843806Z",
     "start_time": "2024-08-25T18:49:18.812898Z"
    }
   },
   "cell_type": "code",
   "source": [
    "# merge the datasets\n",
    "train = pd.concat([compsent_train, webis_2022_train])\n",
    "val = pd.concat([compsent_val, webis_2022_val])\n",
    "test = pd.concat([compsent_test, webis_2022_test])\n",
    "\n",
    "train.to_csv('train.csv', index=False)\n",
    "val.to_csv('val.csv', index=False)\n",
    "test.to_csv('test.csv', index=False)"
   ],
   "id": "978c0a69785b517f",
   "outputs": [],
   "execution_count": 30
  },
  {
   "metadata": {},
   "cell_type": "code",
   "outputs": [],
   "execution_count": null,
   "source": "",
   "id": "bfadc543d6c33cad"
  }
 ],
 "metadata": {
  "kernelspec": {
   "display_name": "Python 3",
   "language": "python",
   "name": "python3"
  },
  "language_info": {
   "codemirror_mode": {
    "name": "ipython",
    "version": 2
   },
   "file_extension": ".py",
   "mimetype": "text/x-python",
   "name": "python",
   "nbconvert_exporter": "python",
   "pygments_lexer": "ipython2",
   "version": "2.7.6"
  }
 },
 "nbformat": 4,
 "nbformat_minor": 5
}

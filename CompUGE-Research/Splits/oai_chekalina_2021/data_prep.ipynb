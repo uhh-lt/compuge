{
 "cells": [
  {
   "metadata": {
    "ExecuteTime": {
     "end_time": "2024-09-09T23:53:37.922708Z",
     "start_time": "2024-09-09T23:53:37.799905Z"
    }
   },
   "cell_type": "code",
   "source": [
    "import pandas as pd\n",
    "\n",
    "def extract_sentences(data):\n",
    "    sentences = []\n",
    "    labels = []\n",
    "    sentence = []\n",
    "    label = []\n",
    "    for line in data:\n",
    "        if line.strip() == '':  # Handles empty lines\n",
    "            if sentence:  # Only append if sentence is not empty\n",
    "                sentences.append(' '.join(sentence))\n",
    "                labels.append(' '.join(label))\n",
    "                sentence = []\n",
    "                label = []\n",
    "        else:\n",
    "            word, tag = line.split()\n",
    "            if word.isalnum():\n",
    "                sentence.append(word)\n",
    "                label.append(tag)\n",
    "    if sentence:  # Catch any leftover sentences\n",
    "        sentences.append(' '.join(sentence))\n",
    "        labels.append(' '.join(label))\n",
    "    return sentences, labels\n",
    "\n",
    "def format_list_as_string(lst):\n",
    "    return \"['\" + \"', '\".join(lst.split()) + \"']\"\n",
    "\n",
    "def format_labels_as_list_of_integers(lst):\n",
    "    return '[' + ', '.join(lst) + ']'\n",
    "\n",
    "LABEL_LIST = [\"O\", \"B-Object\", \"I-Object\", \"B-Aspect\", \"I-Aspect\", \"B-Predicate\", \"I-Predicate\"]\n",
    "label_to_index = {label: idx for idx, label in enumerate(LABEL_LIST)}\n",
    "\n",
    "def map_labels_to_indices(labels):\n",
    "    return [str(label_to_index[label]) for label in labels.split()]\n",
    "\n",
    "# Processing the train, test, and dev datasets\n",
    "datasets = ['train', 'test', 'dev']\n",
    "for dataset in datasets:\n",
    "    with open(f'../../Raw Datasets/Chekalina-OAI/{dataset}.tsv', 'r') as file:\n",
    "        data = file.readlines()\n",
    "        sentences, labels = extract_sentences(data)\n",
    "        sentences = [format_list_as_string(sentence) for sentence in sentences]\n",
    "        labels = [format_labels_as_list_of_integers(map_labels_to_indices(label)) for label in labels]\n",
    "        df = pd.DataFrame({'words': sentences, 'labels': labels})\n",
    "        df['labels'] = df['labels'].apply(lambda x: x.replace('5', '3').replace('6', '4'))\n",
    "        df.to_csv(f'{dataset}.csv', index=False)\n",
    "\n",
    "import os\n",
    "# rename dev.csv to val.csv\n",
    "os.rename('dev.csv', 'val.csv')"
   ],
   "id": "858dffbb4b80abf0",
   "outputs": [],
   "execution_count": 3
  },
  {
   "metadata": {
    "ExecuteTime": {
     "end_time": "2024-09-10T07:40:34.967504Z",
     "start_time": "2024-09-10T07:40:34.918364Z"
    }
   },
   "cell_type": "code",
   "source": [
    "import pandas as pd\n",
    "\n",
    "# load the data\n",
    "train = pd.read_csv('train.csv')\n",
    "test = pd.read_csv('test.csv')\n",
    "val = pd.read_csv('val.csv')\n",
    "\n",
    "# concatenate the data\n",
    "data = pd.concat([train, test, val], ignore_index=True)\n",
    "\n",
    "# check the shape of the data and the labels distribution\n",
    "print(data.shape)"
   ],
   "id": "3fa6c4a077703620",
   "outputs": [
    {
     "name": "stdout",
     "output_type": "stream",
     "text": [
      "(3004, 2)\n"
     ]
    }
   ],
   "execution_count": 4
  }
 ],
 "metadata": {
  "kernelspec": {
   "display_name": "Python 3",
   "language": "python",
   "name": "python3"
  },
  "language_info": {
   "codemirror_mode": {
    "name": "ipython",
    "version": 2
   },
   "file_extension": ".py",
   "mimetype": "text/x-python",
   "name": "python",
   "nbconvert_exporter": "python",
   "pygments_lexer": "ipython2",
   "version": "2.7.6"
  }
 },
 "nbformat": 4,
 "nbformat_minor": 5
}

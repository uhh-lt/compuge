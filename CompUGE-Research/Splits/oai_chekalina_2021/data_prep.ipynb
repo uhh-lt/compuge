{
 "cells": [
  {
   "metadata": {
    "ExecuteTime": {
     "end_time": "2024-09-05T09:23:45.723416Z",
     "start_time": "2024-09-05T09:23:45.655574Z"
    }
   },
   "cell_type": "code",
   "source": [
    "def extract_sentences(data):\n",
    "    sentences = []\n",
    "    labels = []\n",
    "    sentence = []\n",
    "    label = []\n",
    "    for line in data:\n",
    "        if line == '\\n':\n",
    "            sentences.append(' '.join(sentence))\n",
    "            labels.append(' '.join(label))\n",
    "            sentence = []\n",
    "            label = []\n",
    "        else:\n",
    "            word, tag = line.split()\n",
    "            sentence.append(word)\n",
    "            label.append(tag)\n",
    "    return sentences, labels\n",
    "\n",
    "import pandas as pd\n",
    "\n",
    "LABEL_LIST = [\"O\", \"B-Object\", \"I-Object\", \"B-Aspect\", \"I-Aspect\", \"B-Predicate\", \"I-Predicate\"]\n",
    "label_to_index = {label: idx for idx, label in enumerate(LABEL_LIST)}\n",
    "\n",
    "def format_list_as_string(lst):\n",
    "    return '[' + ', '.join(lst.split()) + ']'\n",
    "\n",
    "def map_labels_to_indices(labels):\n",
    "    return [label_to_index[label] for label in labels.split()]\n",
    "\n",
    "with open('../../Raw Datasets/Chekalina-OAI/train.tsv', 'r') as file:\n",
    "    train = file.readlines()\n",
    "    train_sentences, train_labels = extract_sentences(train)\n",
    "    train_sentences = [format_list_as_string(sentence) for sentence in train_sentences]\n",
    "    train_labels = [format_list_as_string(' '.join(map(str, map_labels_to_indices(label)))) for label in train_labels]\n",
    "    df = pd.DataFrame({'words': train_sentences, 'labels': train_labels})\n",
    "    # convert all 5 labels to 3 and all 6 labels to 4\n",
    "    df['labels'] = df['labels'].apply(lambda x: x.replace('5', '3').replace('6', '4'))\n",
    "    df.to_csv('train.csv', index=False)\n",
    "\n",
    "with open('../../Raw Datasets/Chekalina-OAI/test.tsv', 'r') as file:\n",
    "    test = file.readlines()\n",
    "    test_sentences, test_labels = extract_sentences(test)\n",
    "    test_sentences = [format_list_as_string(sentence) for sentence in test_sentences]\n",
    "    test_labels = [format_list_as_string(' '.join(map(str, map_labels_to_indices(label)))) for label in test_labels]\n",
    "    df = pd.DataFrame({'words': test_sentences, 'labels': test_labels})\n",
    "    df['labels'] = df['labels'].apply(lambda x: x.replace('5', '3').replace('6', '4'))\n",
    "    df.to_csv('test.csv', index=False)\n",
    "\n",
    "with open('../../Raw Datasets/Chekalina-OAI/dev.tsv', 'r') as file:\n",
    "    dev = file.readlines()\n",
    "    dev_sentences, dev_labels = extract_sentences(dev)\n",
    "    dev_sentences = [format_list_as_string(sentence) for sentence in dev_sentences]\n",
    "    dev_labels = [format_list_as_string(' '.join(map(str, map_labels_to_indices(label)))) for label in dev_labels]\n",
    "    df = pd.DataFrame({'words': dev_sentences, 'labels': dev_labels})\n",
    "    df['labels'] = df['labels'].apply(lambda x: x.replace('5', '3').replace('6', '4'))\n",
    "    df.to_csv('val.csv', index=False)\n"
   ],
   "id": "858dffbb4b80abf0",
   "outputs": [],
   "execution_count": 17
  },
  {
   "metadata": {},
   "cell_type": "code",
   "outputs": [],
   "execution_count": null,
   "source": "",
   "id": "3fa6c4a077703620"
  }
 ],
 "metadata": {
  "kernelspec": {
   "display_name": "Python 3",
   "language": "python",
   "name": "python3"
  },
  "language_info": {
   "codemirror_mode": {
    "name": "ipython",
    "version": 2
   },
   "file_extension": ".py",
   "mimetype": "text/x-python",
   "name": "python",
   "nbconvert_exporter": "python",
   "pygments_lexer": "ipython2",
   "version": "2.7.6"
  }
 },
 "nbformat": 4,
 "nbformat_minor": 5
}

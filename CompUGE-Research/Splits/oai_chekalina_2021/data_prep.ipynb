{
 "cells": [
  {
   "metadata": {
    "ExecuteTime": {
     "end_time": "2024-09-05T09:23:45.723416Z",
     "start_time": "2024-09-05T09:23:45.655574Z"
    }
   },
   "cell_type": "code",
   "source": [
    "def extract_sentences(data):\n",
    "    sentences = []\n",
    "    labels = []\n",
    "    sentence = []\n",
    "    label = []\n",
    "    for line in data:\n",
    "        if line.strip() == '':  # Handles empty lines\n",
    "            if sentence:  # Only append if sentence is not empty\n",
    "                sentences.append(' '.join(sentence))\n",
    "                labels.append(' '.join(label))\n",
    "                sentence = []\n",
    "                label = []\n",
    "        else:\n",
    "            word, tag = line.split()\n",
    "            if word.isalnum():\n",
    "                sentence.append(word)\n",
    "                label.append(tag)\n",
    "    if sentence:  # Catch any leftover sentences\n",
    "        sentences.append(' '.join(sentence))\n",
    "        labels.append(' '.join(label))\n",
    "    return sentences, labels\n",
    "\n",
    "def format_list_as_string(lst):\n",
    "    return \"['\" + \"', '\".join(lst.split()) + \"']\"\n",
    "\n",
    "def format_labels_as_list_of_integers(lst):\n",
    "    return '[' + ', '.join(lst) + ']'\n",
    "\n",
    "LABEL_LIST = [\"O\", \"B-Object\", \"I-Object\", \"B-Aspect\", \"I-Aspect\", \"B-Predicate\", \"I-Predicate\"]\n",
    "label_to_index = {label: idx for idx, label in enumerate(LABEL_LIST)}\n",
    "\n",
    "def map_labels_to_indices(labels):\n",
    "    return [str(label_to_index[label]) for label in labels.split()]\n",
    "\n",
    "# Processing the train, test, and dev datasets\n",
    "datasets = ['train', 'test', 'dev']\n",
    "for dataset in datasets:\n",
    "    with open(f'../../Raw Datasets/Chekalina-OAI/{dataset}.tsv', 'r') as file:\n",
    "        data = file.readlines()\n",
    "        sentences, labels = extract_sentences(data)\n",
    "        sentences = [format_list_as_string(sentence) for sentence in sentences]\n",
    "        labels = [format_labels_as_list_of_integers(map_labels_to_indices(label)) for label in labels]\n",
    "        df = pd.DataFrame({'words': sentences, 'labels': labels})\n",
    "        df['labels'] = df['labels'].apply(lambda x: x.replace('5', '3').replace('6', '4'))\n",
    "        df.to_csv(f'{dataset}.csv', index=False)\n"
   ],
   "id": "858dffbb4b80abf0",
   "outputs": [],
   "execution_count": 17
  },
  {
   "metadata": {},
   "cell_type": "code",
   "outputs": [],
   "execution_count": null,
   "source": "",
   "id": "3fa6c4a077703620"
  }
 ],
 "metadata": {
  "kernelspec": {
   "display_name": "Python 3",
   "language": "python",
   "name": "python3"
  },
  "language_info": {
   "codemirror_mode": {
    "name": "ipython",
    "version": 2
   },
   "file_extension": ".py",
   "mimetype": "text/x-python",
   "name": "python",
   "nbconvert_exporter": "python",
   "pygments_lexer": "ipython2",
   "version": "2.7.6"
  }
 },
 "nbformat": 4,
 "nbformat_minor": 5
}

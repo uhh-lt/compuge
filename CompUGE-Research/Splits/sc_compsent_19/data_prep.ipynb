{
 "cells": [
  {
   "cell_type": "code",
   "id": "initial_id",
   "metadata": {
    "collapsed": true,
    "ExecuteTime": {
     "end_time": "2024-09-09T13:51:18.338159Z",
     "start_time": "2024-09-09T13:51:18.313713Z"
    }
   },
   "source": [
    "# load the file ../../CAM 2.0 Splits/sentence-classification/train.csv, ../../CAM 2.0 Splits/sentence-classification/test.csv, ../../CAM 2.0 Splits/sentence-classification/validate.csv\n",
    "\n",
    "import pandas as pd\n",
    "import numpy as np\n",
    "\n",
    "train = pd.read_csv('../../CAM 2.0 Splits/sentence-classification/train.csv', sep='\\t')\n",
    "test = pd.read_csv('../../CAM 2.0 Splits/sentence-classification/test.csv', sep='\\t')\n",
    "validate = pd.read_csv('../../CAM 2.0 Splits/sentence-classification/validate.csv', sep='\\t')\n",
    "\n",
    "# change the labels from x y to sentence, label\n",
    "train.columns = ['sentence', 'label']\n",
    "test.columns = ['sentence', 'label']\n",
    "validate.columns = ['sentence', 'label']\n",
    "\n",
    "# save the files to the current directory\n",
    "#train.to_csv('train.csv', index=False)\n",
    "#test.to_csv('test.csv', index=False)\n",
    "#validate.to_csv('val.csv', index=False)"
   ],
   "outputs": [
    {
     "data": {
      "text/plain": [
       "label\n",
       "0    529\n",
       "2    126\n",
       "1     65\n",
       "Name: count, dtype: int64"
      ]
     },
     "execution_count": 7,
     "metadata": {},
     "output_type": "execute_result"
    }
   ],
   "execution_count": 7
  },
  {
   "metadata": {},
   "cell_type": "code",
   "outputs": [],
   "execution_count": null,
   "source": "",
   "id": "3908b12a0d8b410c"
  }
 ],
 "metadata": {
  "kernelspec": {
   "display_name": "Python 3",
   "language": "python",
   "name": "python3"
  },
  "language_info": {
   "codemirror_mode": {
    "name": "ipython",
    "version": 2
   },
   "file_extension": ".py",
   "mimetype": "text/x-python",
   "name": "python",
   "nbconvert_exporter": "python",
   "pygments_lexer": "ipython2",
   "version": "2.7.6"
  }
 },
 "nbformat": 4,
 "nbformat_minor": 5
}

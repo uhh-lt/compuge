{
 "cells": [
  {
   "cell_type": "code",
   "id": "initial_id",
   "metadata": {
    "collapsed": true,
    "ExecuteTime": {
     "end_time": "2024-09-05T16:29:58.315792Z",
     "start_time": "2024-09-05T16:29:58.185080Z"
    }
   },
   "source": [
    "import pandas as pd\n",
    "import ast  # For safely evaluating string representations of lists\n",
    "import numpy as np\n",
    "import re  # For regular expressions\n",
    "\n",
    "LABEL_LIST = [\"O\", \"B-OBJ\", \"I-OBJ\", \"B-ASPECT\", \"I-ASPECT\"]\n",
    "\n",
    "def transform_to_iob2_format(labels):\n",
    "    if (len(labels) == 0) or (labels[0] == \"O\" and len(labels) == 1):\n",
    "        return labels\n",
    "    new_labels = []\n",
    "    prev_label = labels[0]\n",
    "    is_first_label = True\n",
    "    for ind in range(1, len(labels)):\n",
    "        label = labels[ind]\n",
    "        if prev_label != label:\n",
    "            new_label = \"B-\" + prev_label if is_first_label else \"I-\" + prev_label\n",
    "            new_labels.append(prev_label if prev_label == \"O\" else new_label)\n",
    "            prev_label = label\n",
    "            is_first_label = True\n",
    "        elif is_first_label:\n",
    "            new_labels.append(prev_label if prev_label == \"O\" else \"B-\" + prev_label)\n",
    "            prev_label = label\n",
    "            is_first_label = False\n",
    "        else:\n",
    "            new_labels.append(prev_label if prev_label == \"O\" else \"I-\" + prev_label)\n",
    "            prev_label = label\n",
    "\n",
    "    new_label = \"B-\" + prev_label if is_first_label else \"I-\" + prev_label\n",
    "    new_labels.append(prev_label if prev_label == \"O\" else new_label)\n",
    "\n",
    "    return new_labels\n",
    "\n",
    "\n",
    "def map_and_apply(df):\n",
    "    df = df.reset_index(drop=True)\n",
    "    df[\"labels\"] = df[\"labels\"].map(lambda x: transform_to_iob2_format(x))\n",
    "    df[\"labels\"] = df[\"labels\"].apply(\n",
    "        lambda labels: [LABEL_LIST.index(label) for label in labels]\n",
    "    )\n",
    "    return df\n",
    "\n",
    "# Read the CSV files\n",
    "train = pd.read_csv('train.csv')\n",
    "test = pd.read_csv('test.csv')\n",
    "\n",
    "# Replace NaN values with an empty list or a default value in the 'labels' column\n",
    "train['labels'] = train['labels'].replace(np.nan, '[]')\n",
    "test['labels'] = test['labels'].replace(np.nan, '[]')\n",
    "\n",
    "# Convert the 'labels' column from string representation to actual lists\n",
    "train['labels'] = train['labels'].apply(ast.literal_eval)\n",
    "test['labels'] = test['labels'].apply(ast.literal_eval)\n",
    "\n",
    "# Function to remove numbers after 'OBJ' and 'ASPECT' labels\n",
    "def remove_numbers_from_labels(label_list):\n",
    "    return [re.sub(r'(OBJ|ASPECT)-\\d+', r'\\1', label) for label in label_list]\n",
    "\n",
    "# Apply the function to the 'labels' column\n",
    "train['labels'] = train['labels'].apply(remove_numbers_from_labels)\n",
    "test['labels'] = test['labels'].apply(remove_numbers_from_labels)\n",
    "\n",
    "# Remove all rows that contain the word \"SHARED\" in the labels column\n",
    "train = train[~train['labels'].apply(lambda x: 'SHARED' in x)]\n",
    "test = test[~test['labels'].apply(lambda x: 'SHARED' in x)]\n",
    "\n",
    "train = map_and_apply(train)\n",
    "test = map_and_apply(test)\n",
    "\n",
    "# Save the processed data to CSV files\n",
    "train.to_csv('train.csv', index=False)\n",
    "test.to_csv('test.csv', index=False)"
   ],
   "outputs": [],
   "execution_count": 18
  },
  {
   "metadata": {
    "ExecuteTime": {
     "end_time": "2024-09-05T16:33:15.384703Z",
     "start_time": "2024-09-05T16:33:15.366301Z"
    }
   },
   "cell_type": "code",
   "source": [
    "import pandas as pd\n",
    "\n",
    "# load data\n",
    "train = pd.read_csv('train.csv')\n",
    "test = pd.read_csv('test.csv')\n",
    "val = pd.read_csv('val.csv')"
   ],
   "id": "eab71eba8e14825d",
   "outputs": [
    {
     "data": {
      "text/plain": [
       "labels\n",
       "33     164\n",
       "27     137\n",
       "30     131\n",
       "39     127\n",
       "36     125\n",
       "42     111\n",
       "45      88\n",
       "48      71\n",
       "51      70\n",
       "24      61\n",
       "54      52\n",
       "60      45\n",
       "57      44\n",
       "21      32\n",
       "63      29\n",
       "66      26\n",
       "81      22\n",
       "75      19\n",
       "69      19\n",
       "72      17\n",
       "78      16\n",
       "18      15\n",
       "87      13\n",
       "84      12\n",
       "99       8\n",
       "105      6\n",
       "102      6\n",
       "93       4\n",
       "108      3\n",
       "90       3\n",
       "144      3\n",
       "96       3\n",
       "111      2\n",
       "123      1\n",
       "15       1\n",
       "150      1\n",
       "132      1\n",
       "Name: count, dtype: int64"
      ]
     },
     "execution_count": 20,
     "metadata": {},
     "output_type": "execute_result"
    }
   ],
   "execution_count": 20
  }
 ],
 "metadata": {
  "kernelspec": {
   "display_name": "Python 3",
   "language": "python",
   "name": "python3"
  },
  "language_info": {
   "codemirror_mode": {
    "name": "ipython",
    "version": 2
   },
   "file_extension": ".py",
   "mimetype": "text/x-python",
   "name": "python",
   "nbconvert_exporter": "python",
   "pygments_lexer": "ipython2",
   "version": "2.7.6"
  }
 },
 "nbformat": 4,
 "nbformat_minor": 5
}

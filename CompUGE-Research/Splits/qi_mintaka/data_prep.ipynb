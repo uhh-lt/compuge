{
 "cells": [
  {
   "cell_type": "code",
   "id": "initial_id",
   "metadata": {
    "collapsed": true,
    "ExecuteTime": {
     "end_time": "2024-09-09T18:51:16.503424Z",
     "start_time": "2024-09-09T18:51:15.737253Z"
    }
   },
   "source": [
    "# load train, test and dev data from mintaka_train.json, mintaka_test.json and mintaka_dev.json in folder Raw Datasets/mintaka\n",
    "\n",
    "import json\n",
    "import pandas as pd\n",
    "\n",
    "def load_data_and_process(file_path):\n",
    "    with open(file_path, 'r') as f:\n",
    "        data = json.load(f)\n",
    "    data = pd.DataFrame(data)\n",
    "    data = data[['question', 'complexityType']]\n",
    "    data['label'] = data['complexityType'].apply(lambda x: 1 if x == 'comparative' else 0)\n",
    "    data = data.drop(columns=['complexityType'])\n",
    "    return data\n",
    "\n",
    "train_data = load_data_and_process('../../Raw Datasets/mintaka/mintaka_train.json')\n",
    "test_data = load_data_and_process('../../Raw Datasets/mintaka/mintaka_test.json')\n",
    "dev_data = load_data_and_process('../../Raw Datasets/mintaka/mintaka_dev.json')\n",
    "\n",
    "# save the data to csv files\n",
    "#train_data.to_csv('train.csv', index=False)\n",
    "#test_data.to_csv('test.csv', index=False)\n",
    "#dev_data.to_csv('val.csv', index=False)\n"
   ],
   "outputs": [],
   "execution_count": 2
  },
  {
   "metadata": {
    "ExecuteTime": {
     "end_time": "2024-09-09T18:51:29.949546Z",
     "start_time": "2024-09-09T18:51:29.942809Z"
    }
   },
   "cell_type": "code",
   "source": [
    "data = pd.concat([train_data, test_data, dev_data], axis=0)\n",
    "\n",
    "# check the size and the distribution of the data\n",
    "print(data.shape)\n",
    "print(data['label'].value_counts())\n"
   ],
   "id": "4d3606478358f6c3",
   "outputs": [
    {
     "name": "stdout",
     "output_type": "stream",
     "text": [
      "(20000, 2)\n",
      "label\n",
      "0    18000\n",
      "1     2000\n",
      "Name: count, dtype: int64\n"
     ]
    }
   ],
   "execution_count": 5
  },
  {
   "metadata": {},
   "cell_type": "code",
   "outputs": [],
   "execution_count": null,
   "source": "",
   "id": "f9298e44f2ec8f62"
  }
 ],
 "metadata": {
  "kernelspec": {
   "display_name": "Python 3",
   "language": "python",
   "name": "python3"
  },
  "language_info": {
   "codemirror_mode": {
    "name": "ipython",
    "version": 2
   },
   "file_extension": ".py",
   "mimetype": "text/x-python",
   "name": "python",
   "nbconvert_exporter": "python",
   "pygments_lexer": "ipython2",
   "version": "2.7.6"
  }
 },
 "nbformat": 4,
 "nbformat_minor": 5
}

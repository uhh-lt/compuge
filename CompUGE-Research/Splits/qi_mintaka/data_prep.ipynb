{
 "cells": [
  {
   "cell_type": "code",
   "id": "initial_id",
   "metadata": {
    "collapsed": true,
    "ExecuteTime": {
     "end_time": "2024-08-09T18:12:16.942340Z",
     "start_time": "2024-08-09T18:12:16.312568Z"
    }
   },
   "source": [
    "# load train, test and dev data from mintaka_train.json, mintaka_test.json and mintaka_dev.json in folder Raw Datasets/mintaka\n",
    "\n",
    "import json\n",
    "import pandas as pd\n",
    "\n",
    "def load_data_and_process(file_path):\n",
    "    with open(file_path, 'r') as f:\n",
    "        data = json.load(f)\n",
    "    data = pd.DataFrame(data)\n",
    "    data = data[['question', 'complexityType']]\n",
    "    data['label'] = data['complexityType'].apply(lambda x: 1 if x == 'comparative' else 0)\n",
    "    data = data.drop(columns=['complexityType'])\n",
    "    return data\n",
    "\n",
    "train_data = load_data_and_process('../../Raw Datasets/mintaka/mintaka_train.json')\n",
    "test_data = load_data_and_process('../../Raw Datasets/mintaka/mintaka_test.json')\n",
    "dev_data = load_data_and_process('../../Raw Datasets/mintaka/mintaka_dev.json')\n",
    "\n",
    "# save the data to csv files\n",
    "train_data.to_csv('train.csv', index=False)\n",
    "test_data.to_csv('test.csv', index=False)\n",
    "dev_data.to_csv('val.csv', index=False)\n"
   ],
   "outputs": [],
   "execution_count": 7
  },
  {
   "metadata": {},
   "cell_type": "code",
   "outputs": [],
   "execution_count": null,
   "source": [
    "train_data = load_data_and_process('train.csv')\n",
    "test_data = load_data_and_process('test.csv')\n",
    "dev_data = load_data_and_process('val.csv')\n",
    "\n",
    "# merge the splits\n",
    "\n"
   ],
   "id": "4d3606478358f6c3"
  }
 ],
 "metadata": {
  "kernelspec": {
   "display_name": "Python 3",
   "language": "python",
   "name": "python3"
  },
  "language_info": {
   "codemirror_mode": {
    "name": "ipython",
    "version": 2
   },
   "file_extension": ".py",
   "mimetype": "text/x-python",
   "name": "python",
   "nbconvert_exporter": "python",
   "pygments_lexer": "ipython2",
   "version": "2.7.6"
  }
 },
 "nbformat": 4,
 "nbformat_minor": 5
}

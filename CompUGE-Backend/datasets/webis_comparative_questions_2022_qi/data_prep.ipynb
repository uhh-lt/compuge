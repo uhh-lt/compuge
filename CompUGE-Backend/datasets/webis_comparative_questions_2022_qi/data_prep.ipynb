{
 "cells": [
  {
   "cell_type": "code",
   "id": "initial_id",
   "metadata": {
    "collapsed": true,
    "ExecuteTime": {
     "end_time": "2024-08-09T18:26:18.850152Z",
     "start_time": "2024-08-09T18:26:18.814029Z"
    }
   },
   "source": [
    "import pandas as pd\n",
    "# load train, test and validate.csv from ../../CAM 2.0 Splits/Comparative Question Identification\n",
    "\n",
    "train = pd.read_csv('../../CAM 2.0 Splits/Comparative Question Identication/train.csv', sep='\\t')\n",
    "test = pd.read_csv('../../CAM 2.0 Splits/Comparative Question Identication/test.csv', sep='\\t')\n",
    "validate = pd.read_csv('../../CAM 2.0 Splits/Comparative Question Identication/validate.csv', sep='\\t')\n",
    "\n",
    "# change the column names from question\tcategory to question label and save as csv in the current directory\n",
    "train.columns = ['question', 'label']\n",
    "test.columns = ['question', 'label']\n",
    "validate.columns = ['question', 'label']\n",
    "\n",
    "train.to_csv('train.csv', index=False)\n",
    "test.to_csv('test.csv', index=False)\n",
    "validate.to_csv('val.csv', index=False)"
   ],
   "outputs": [],
   "execution_count": 7
  },
  {
   "metadata": {},
   "cell_type": "code",
   "outputs": [],
   "execution_count": null,
   "source": "",
   "id": "311a945f7cee8d87"
  }
 ],
 "metadata": {
  "kernelspec": {
   "display_name": "Python 3",
   "language": "python",
   "name": "python3"
  },
  "language_info": {
   "codemirror_mode": {
    "name": "ipython",
    "version": 2
   },
   "file_extension": ".py",
   "mimetype": "text/x-python",
   "name": "python",
   "nbconvert_exporter": "python",
   "pygments_lexer": "ipython2",
   "version": "2.7.6"
  }
 },
 "nbformat": 4,
 "nbformat_minor": 5
}

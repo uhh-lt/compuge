{
 "cells": [
  {
   "cell_type": "code",
   "id": "initial_id",
   "metadata": {
    "collapsed": true,
    "ExecuteTime": {
     "end_time": "2024-07-17T21:23:23.672457Z",
     "start_time": "2024-07-17T21:23:23.482989Z"
    }
   },
   "source": [
    "import pandas as pd\n",
    "\n",
    "# load model-test.csv \n",
    "df = pd.read_csv('model-test.csv')\n",
    "# keep only the columns labels and predictions\n",
    "df = df[['labels', 'predictions']]\n",
    "\n",
    "# save\n",
    "df.to_csv('model-test.csv', index=False)"
   ],
   "outputs": [],
   "execution_count": 3
  },
  {
   "metadata": {},
   "cell_type": "code",
   "outputs": [],
   "execution_count": null,
   "source": "",
   "id": "a952e756b2dc88b7"
  }
 ],
 "metadata": {
  "kernelspec": {
   "display_name": "Python 3",
   "language": "python",
   "name": "python3"
  },
  "language_info": {
   "codemirror_mode": {
    "name": "ipython",
    "version": 2
   },
   "file_extension": ".py",
   "mimetype": "text/x-python",
   "name": "python",
   "nbconvert_exporter": "python",
   "pygments_lexer": "ipython2",
   "version": "2.7.6"
  }
 },
 "nbformat": 4,
 "nbformat_minor": 5
}

{
 "cells": [
  {
   "cell_type": "code",
   "id": "initial_id",
   "metadata": {
    "collapsed": true,
    "ExecuteTime": {
     "end_time": "2024-08-09T18:11:56.569904Z",
     "start_time": "2024-08-09T18:11:56.517895Z"
    }
   },
   "source": [
    "\n",
    "def extract_sentences(data):\n",
    "    sentences = []\n",
    "    labels = []\n",
    "    sentence = []\n",
    "    label = []\n",
    "    for line in data:\n",
    "        if line == '\\n':\n",
    "            sentences.append(' '.join(sentence))\n",
    "            labels.append(' '.join(label))\n",
    "            sentence = []\n",
    "            label = []\n",
    "        else:\n",
    "            word, tag = line.split()\n",
    "            sentence.append(word)\n",
    "            label.append(tag)\n",
    "    return sentences, labels\n",
    "\n",
    "import pandas as pd\n",
    "\n",
    "with open('../../Raw Datasets/Chekalina-OAI/train.tsv', 'r') as file:\n",
    "    train = file.readlines()\n",
    "    train_sentences, train_labels = extract_sentences(train)\n",
    "    # each line of the new file should look like this: [words], [labels] with the brackets included\n",
    "    for i in range(len(train_sentences)):\n",
    "        train_sentences[i] = '[' + train_sentences[i] + ']'\n",
    "        train_labels[i] = '[' + train_labels[i] + ']'\n",
    "    df = pd.DataFrame({'words': train_sentences, 'labels': train_labels})\n",
    "    df.to_csv('train.csv', index=False)\n",
    "    \n",
    "with open('../../Raw Datasets/Chekalina-OAI/test.tsv', 'r') as file:\n",
    "    test = file.readlines()\n",
    "    test_sentences, test_labels = extract_sentences(test)\n",
    "    for i in range(len(test_sentences)):\n",
    "        test_sentences[i] = '[' + test_sentences[i] + ']'\n",
    "        test_labels[i] = '[' + test_labels[i] + ']'\n",
    "    df = pd.DataFrame({'words': test_sentences, 'labels': test_labels})\n",
    "    df.to_csv('test.csv', index=False)\n",
    "    \n",
    "with open('../../Raw Datasets/Chekalina-OAI/dev.tsv', 'r') as file:\n",
    "    dev = file.readlines()\n",
    "    dev_sentences, dev_labels = extract_sentences(dev)\n",
    "    for i in range(len(dev_sentences)):\n",
    "        dev_sentences[i] = '[' + dev_sentences[i] + ']'\n",
    "        dev_labels[i] = '[' + dev_labels[i] + ']'\n",
    "    df = pd.DataFrame({'words': dev_sentences, 'labels': dev_labels})\n",
    "    df.to_csv('val.csv', index=False)\n"
   ],
   "outputs": [],
   "execution_count": 5
  },
  {
   "metadata": {},
   "cell_type": "code",
   "outputs": [],
   "execution_count": null,
   "source": "",
   "id": "715e9e2912a1701b"
  }
 ],
 "metadata": {
  "kernelspec": {
   "display_name": "Python 3",
   "language": "python",
   "name": "python3"
  },
  "language_info": {
   "codemirror_mode": {
    "name": "ipython",
    "version": 2
   },
   "file_extension": ".py",
   "mimetype": "text/x-python",
   "name": "python",
   "nbconvert_exporter": "python",
   "pygments_lexer": "ipython2",
   "version": "2.7.6"
  }
 },
 "nbformat": 4,
 "nbformat_minor": 5
}
